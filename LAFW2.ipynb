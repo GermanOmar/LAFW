{
  "nbformat": 4,
  "nbformat_minor": 0,
  "metadata": {
    "accelerator": "GPU",
    "colab": {
      "name": "LAFW2.ipynb",
      "provenance": [],
      "collapsed_sections": [],
      "toc_visible": true,
      "mount_file_id": "https://github.com/GermanOmar/ANN1/blob/main/NN1_L2.ipynb",
      "authorship_tag": "ABX9TyMWMFzVEfuJF7wrR6znF7iX",
      "include_colab_link": true
    },
    "kernelspec": {
      "display_name": "Python 3",
      "name": "python3"
    }
  },
  "cells": [
    {
      "cell_type": "markdown",
      "metadata": {
        "id": "view-in-github",
        "colab_type": "text"
      },
      "source": [
        "<a href=\"https://colab.research.google.com/github/GermanOmar/LAFW/blob/master/LAFW2.ipynb\" target=\"_parent\"><img src=\"https://colab.research.google.com/assets/colab-badge.svg\" alt=\"Open In Colab\"/></a>"
      ]
    },
    {
      "cell_type": "markdown",
      "metadata": {
        "id": "rqI9VDT0RdWk"
      },
      "source": [
        "# Machine learning regressors for UTS prediction in laser-assisted rotary friction welding\n"
      ]
    },
    {
      "cell_type": "markdown",
      "metadata": {
        "id": "2OOvQQeg7d0g"
      },
      "source": [
        "<a href=\"https://ibb.co/h2Prbq5\"><img src=\"https://i.ibb.co/2cDRxb2/Imagen1.png\" WIDTH=\"329\" HEIGHT=\"713\"  border=\"0\"></a>"
      ]
    },
    {
      "cell_type": "markdown",
      "metadata": {
        "id": "3-T6Z2bdRvSm"
      },
      "source": [
        " Libraries"
      ]
    },
    {
      "cell_type": "code",
      "metadata": {
        "id": "ltCb1Iw6Raez"
      },
      "source": [
        "import numpy as np\n",
        "import pandas as pd\n",
        "from matplotlib import pyplot as plt\n",
        "from sklearn import preprocessing\n",
        "from sklearn.utils import shuffle"
      ],
      "execution_count": 2,
      "outputs": []
    },
    {
      "cell_type": "markdown",
      "metadata": {
        "id": "1Mbfb5c9yu5p"
      },
      "source": [
        " Upload database:"
      ]
    },
    {
      "cell_type": "code",
      "metadata": {
        "colab": {
          "base_uri": "https://localhost:8080/"
        },
        "id": "_V3jfdhPsEKW",
        "outputId": "659d93d2-a19f-4234-d7b7-625c9e5ad8d0"
      },
      "source": [
        "!git clone https://github.com/GermanOmar/LAFW"
      ],
      "execution_count": 3,
      "outputs": [
        {
          "output_type": "stream",
          "text": [
            "Cloning into 'LAFW'...\n",
            "remote: Enumerating objects: 13, done.\u001b[K\n",
            "remote: Counting objects: 100% (13/13), done.\u001b[K\n",
            "remote: Compressing objects: 100% (11/11), done.\u001b[K\n",
            "remote: Total 13 (delta 0), reused 0 (delta 0), pack-reused 0\u001b[K\n",
            "Unpacking objects: 100% (13/13), done.\n"
          ],
          "name": "stdout"
        }
      ]
    },
    {
      "cell_type": "code",
      "metadata": {
        "colab": {
          "base_uri": "https://localhost:8080/",
          "height": 284
        },
        "id": "Yx-ovik8xxJx",
        "outputId": "7bd5d4c7-4478-4c51-a818-a490b36ac73c"
      },
      "source": [
        "#Experimental data\n",
        "data = pd.read_table('data.txt') \n",
        "data.describe()\n"
      ],
      "execution_count": 4,
      "outputs": [
        {
          "output_type": "execute_result",
          "data": {
            "text/html": [
              "<div>\n",
              "<style scoped>\n",
              "    .dataframe tbody tr th:only-of-type {\n",
              "        vertical-align: middle;\n",
              "    }\n",
              "\n",
              "    .dataframe tbody tr th {\n",
              "        vertical-align: top;\n",
              "    }\n",
              "\n",
              "    .dataframe thead th {\n",
              "        text-align: right;\n",
              "    }\n",
              "</style>\n",
              "<table border=\"1\" class=\"dataframe\">\n",
              "  <thead>\n",
              "    <tr style=\"text-align: right;\">\n",
              "      <th></th>\n",
              "      <th>N</th>\n",
              "      <th>FP</th>\n",
              "      <th>LP</th>\n",
              "      <th>UTS</th>\n",
              "    </tr>\n",
              "  </thead>\n",
              "  <tbody>\n",
              "    <tr>\n",
              "      <th>count</th>\n",
              "      <td>48.000000</td>\n",
              "      <td>48.000000</td>\n",
              "      <td>48.000000</td>\n",
              "      <td>48.000000</td>\n",
              "    </tr>\n",
              "    <tr>\n",
              "      <th>mean</th>\n",
              "      <td>1700.000000</td>\n",
              "      <td>17.500000</td>\n",
              "      <td>600.000000</td>\n",
              "      <td>148.130417</td>\n",
              "    </tr>\n",
              "    <tr>\n",
              "      <th>std</th>\n",
              "      <td>101.058231</td>\n",
              "      <td>3.537038</td>\n",
              "      <td>378.125275</td>\n",
              "      <td>40.693220</td>\n",
              "    </tr>\n",
              "    <tr>\n",
              "      <th>min</th>\n",
              "      <td>1600.000000</td>\n",
              "      <td>14.000000</td>\n",
              "      <td>0.000000</td>\n",
              "      <td>60.300000</td>\n",
              "    </tr>\n",
              "    <tr>\n",
              "      <th>25%</th>\n",
              "      <td>1600.000000</td>\n",
              "      <td>14.000000</td>\n",
              "      <td>450.000000</td>\n",
              "      <td>114.300000</td>\n",
              "    </tr>\n",
              "    <tr>\n",
              "      <th>50%</th>\n",
              "      <td>1700.000000</td>\n",
              "      <td>17.500000</td>\n",
              "      <td>700.000000</td>\n",
              "      <td>149.750000</td>\n",
              "    </tr>\n",
              "    <tr>\n",
              "      <th>75%</th>\n",
              "      <td>1800.000000</td>\n",
              "      <td>21.000000</td>\n",
              "      <td>850.000000</td>\n",
              "      <td>176.825000</td>\n",
              "    </tr>\n",
              "    <tr>\n",
              "      <th>max</th>\n",
              "      <td>1800.000000</td>\n",
              "      <td>21.000000</td>\n",
              "      <td>1000.000000</td>\n",
              "      <td>215.400000</td>\n",
              "    </tr>\n",
              "  </tbody>\n",
              "</table>\n",
              "</div>"
            ],
            "text/plain": [
              "                 N         FP           LP         UTS\n",
              "count    48.000000  48.000000    48.000000   48.000000\n",
              "mean   1700.000000  17.500000   600.000000  148.130417\n",
              "std     101.058231   3.537038   378.125275   40.693220\n",
              "min    1600.000000  14.000000     0.000000   60.300000\n",
              "25%    1600.000000  14.000000   450.000000  114.300000\n",
              "50%    1700.000000  17.500000   700.000000  149.750000\n",
              "75%    1800.000000  21.000000   850.000000  176.825000\n",
              "max    1800.000000  21.000000  1000.000000  215.400000"
            ]
          },
          "metadata": {
            "tags": []
          },
          "execution_count": 4
        }
      ]
    },
    {
      "cell_type": "markdown",
      "metadata": {
        "id": "lFVoj9tfSQJJ"
      },
      "source": [
        "\r\n",
        "Setting inputs - output:"
      ]
    },
    {
      "cell_type": "code",
      "metadata": {
        "colab": {
          "base_uri": "https://localhost:8080/",
          "height": 472
        },
        "id": "j4RPoTbW_VVs",
        "outputId": "9d1b914e-2b94-4185-93fb-b9f1383689b7"
      },
      "source": [
        "fields = [ 'N', 'FP','LP', 'UTS']\n",
        "import seaborn as sns\n",
        "sns.set()\n",
        "\n",
        "fig = plt.figure()\n",
        "fig.set_size_inches((12,8))\n",
        "for i, field in enumerate(fields):\n",
        "  plt.subplot(3, 3, i + 1)\n",
        "  plt.plot(data[field], data['UTS'], 'b*')\n",
        "  plt.xlabel(field)\n",
        "  plt.ylabel('UTS')\n",
        "\n",
        "plt.tight_layout()\n",
        "\n",
        "X=data[[ 'N', 'FP','LP']]\n",
        "Y=data['UTS'][:,None]\n",
        "\n",
        "\n",
        "\n",
        "#fig.tight_layout()"
      ],
      "execution_count": 5,
      "outputs": [
        {
          "output_type": "stream",
          "text": [
            "/usr/local/lib/python3.7/dist-packages/ipykernel_launcher.py:16: FutureWarning: Support for multi-dimensional indexing (e.g. `obj[:, None]`) is deprecated and will be removed in a future version.  Convert to a numpy array before indexing instead.\n",
            "  app.launch_new_instance()\n"
          ],
          "name": "stderr"
        },
        {
          "output_type": "display_data",
          "data": {
            "image/png": "[encoded data removed]",
            "text/plain": [
              "<Figure size 864x576 with 4 Axes>"
            ]
          },
          "metadata": {
            "tags": []
          }
        }
      ]
    },
    {
      "cell_type": "code",
      "metadata": {
        "colab": {
          "base_uri": "https://localhost:8080/",
          "height": 621
        },
        "id": "SVvdbKrdZIj5",
        "outputId": "00036d37-42ae-440f-bc1e-5f8987b1e6bf"
      },
      "source": [
        "from pandas.plotting import scatter_matrix\r\n",
        "#DISPLAY MATRIX - identificar correlacion entre variables\r\n",
        "scatter_matrix(data, alpha=0.8, marker='o', figsize = (10,10))\r\n",
        "import warnings\r\n",
        "warnings.filterwarnings(\"ignore\")"
      ],
      "execution_count": 7,
      "outputs": [
        {
          "output_type": "display_data",
          "data": {
            "image/png": "[encoded data removed]",
            "text/plain": [
              "<Figure size 720x720 with 16 Axes>"
            ]
          },
          "metadata": {
            "tags": []
          }
        }
      ]
    },
    {
      "cell_type": "markdown",
      "metadata": {
        "id": "7o8zckSzFI7O"
      },
      "source": [
        "#UTS prediction"
      ]
    },
    {
      "cell_type": "code",
      "metadata": {
        "id": "N9C38QmsAXm-"
      },
      "source": [
        "def normalize(X, X_mu, X_std):\r\n",
        "  return (X - X_mu)/X_std\r\n",
        "\r\n",
        "def denormalize(Xn, X_mu, X_std):\r\n",
        "  return Xn*X_std + X_mu\r\n",
        "\r\n",
        "X_std = X.std(0)\r\n",
        "X_mu = X.mean(0)\r\n",
        "Xn = normalize(X, X_mu, X_std)\r\n",
        "\r\n",
        "Y_std = Y.std(0)\r\n",
        "Y_mu = Y.mean(0)\r\n",
        "Yn = normalize(Y, Y_mu, Y_std)"
      ],
      "execution_count": 8,
      "outputs": []
    },
    {
      "cell_type": "markdown",
      "metadata": {
        "id": "Q6pAiesfTDDU"
      },
      "source": [
        " Split data"
      ]
    },
    {
      "cell_type": "code",
      "metadata": {
        "colab": {
          "base_uri": "https://localhost:8080/"
        },
        "id": "HI3IlTeHTF_Z",
        "outputId": "3e9046bf-d688-4843-fdf9-3f5b41772c9c"
      },
      "source": [
        "from sklearn.model_selection import train_test_split\n",
        "\n",
        "X_train, X_test, y_train, y_test = train_test_split(X, Y, test_size=0.2, random_state=42)\n",
        "print('training samples:', X_train.shape[0],  ' test samples:', X_test.shape[0])"
      ],
      "execution_count": 9,
      "outputs": [
        {
          "output_type": "stream",
          "text": [
            "training samples: 38  test samples: 10\n"
          ],
          "name": "stdout"
        }
      ]
    },
    {
      "cell_type": "markdown",
      "metadata": {
        "id": "7Zk7lMoGhdFO"
      },
      "source": [
        "#Results:"
      ]
    },
    {
      "cell_type": "markdown",
      "metadata": {
        "id": "NL8FawXuyV0d"
      },
      "source": [
        "###GBR "
      ]
    },
    {
      "cell_type": "code",
      "metadata": {
        "colab": {
          "base_uri": "https://localhost:8080/"
        },
        "id": "cGJU9U3RouUl",
        "outputId": "0078aac8-8d43-406c-886b-8af78f5551af"
      },
      "source": [
        "from sklearn.ensemble import GradientBoostingRegressor\r\n",
        "#KERNEL\r\n",
        "#GBR=GradientBoostingRegressor(n_estimators=100, random_state=0)\r\n",
        "GBR=GradientBoostingRegressor(n_estimators=5000, random_state=32, learning_rate=0.1 )\r\n",
        "\r\n",
        "#START TRAINING\r\n",
        "GBR.fit(X_train,y_train)\r\n",
        "#PREDICTION\r\n",
        "y_pred=GBR.predict(X_test)\r\n",
        "\r\n",
        "#EVAL\r\n",
        "from sklearn.metrics import mean_squared_error as MSE\r\n",
        "MSE_test = MSE(y_test, y_pred)\r\n",
        "\r\n",
        " \r\n",
        "print(\"-Gradient boosting regressor-\")\r\n",
        "print(\"-----------------------------\")\r\n",
        "\r\n",
        "print('MSE test:', MSE_test)\r\n",
        "\r\n",
        "print()\r\n",
        "\r\n",
        "from sklearn.metrics import r2_score\r\n",
        "from sklearn.metrics import mean_absolute_error as MAE \r\n",
        "\r\n",
        "#METRICS: R2, RMSE, MAE\r\n",
        "R2=r2_score(y_test, y_pred)\r\n",
        "print('R2: ',R2)\r\n",
        "RMSE = np.sqrt(MSE_test)\r\n",
        "print(\"RMSE: \", RMSE)\r\n",
        "MAE = MAE(y_test, y_pred)\r\n",
        "print(\"MAE: \", MAE)\r\n",
        "IM=np.sqrt(((1-R2)**2) + (RMSE**2) + (MAE**2) )\r\n",
        "print(\"IM: \", IM)\r\n",
        "print()\r\n"
      ],
      "execution_count": 10,
      "outputs": [
        {
          "output_type": "stream",
          "text": [
            "-Gradient boosting regressor-\n",
            "-----------------------------\n",
            "MSE test: 62.8568703869844\n",
            "\n",
            "R2:  0.9760458527967671\n",
            "RMSE:  7.9282324882021715\n",
            "MAE:  7.355511466699556\n",
            "IM:  10.814850582643354\n",
            "\n"
          ],
          "name": "stdout"
        }
      ]
    },
    {
      "cell_type": "markdown",
      "metadata": {
        "id": "IVHzaa4EkSPe"
      },
      "source": [
        "### GPs"
      ]
    },
    {
      "cell_type": "code",
      "metadata": {
        "colab": {
          "base_uri": "https://localhost:8080/"
        },
        "id": "abeE5km2aix5",
        "outputId": "df08ce29-6dc2-4a79-d8c9-c2523080d476"
      },
      "source": [
        "from sklearn.gaussian_process import GaussianProcessRegressor as GPR\r\n",
        "from sklearn.gaussian_process.kernels import RBF, ConstantKernel as C\r\n",
        "kernel = C(1.0, (1e-3, 1e3)) * RBF(10, (1e-2, 1e2))\r\n",
        " \r\n",
        "GP=GPR(kernel=kernel, n_restarts_optimizer=9, alpha=0.01, normalize_y=True)\r\n",
        " \r\n",
        "#Training\r\n",
        "GP.fit(X_train,y_train)\r\n",
        " \r\n",
        "#Testing\r\n",
        "y_star_train = GP.predict(X_train)\r\n",
        "y_pred = GP.predict(X_test)\r\n",
        " \r\n",
        "from sklearn.metrics import mean_squared_error\r\n",
        "MSE_test = mean_squared_error(y_test, y_pred)\r\n",
        "MSE_train = mean_squared_error(y_train, y_star_train)\r\n",
        " \r\n",
        "print(\"Gaussian Process\")\r\n",
        "print('MSE train:', MSE_train)\r\n",
        "print('MSE test:', MSE_test)\r\n",
        "print(\"MSE train < MSE test?\", MSE_train < MSE_test)\r\n",
        "print()\r\n",
        "from sklearn.metrics import r2_score\r\n",
        "R2_train=r2_score(y_train, y_star_train)\r\n",
        "print('R2_train: ',R2_train)\r\n",
        "R2_test=r2_score(y_test, y_pred)\r\n",
        "print('R2_test: ',R2_test)\r\n",
        "print()\r\n",
        "\"\"\" \r\n",
        "RE=100 * abs(y_test - y_pred) / y_test\r\n",
        "print('Relative error (%): ',RE)\r\n",
        "\"\"\"\r\n",
        "from sklearn.metrics import r2_score\r\n",
        "from sklearn.metrics import mean_absolute_error as MAE \r\n",
        "#METRICS: R2, RMSE, MAE\r\n",
        "R2=r2_score(y_test, y_pred)\r\n",
        "print('R2: ',R2)\r\n",
        "RMSE = np.sqrt(MSE_test)\r\n",
        "print(\"RMSE: \", RMSE)\r\n",
        "MAE = MAE(y_test, y_pred)\r\n",
        "print(\"MAE: \", MAE)\r\n",
        "IM=np.sqrt(((1-R2)**2) + (RMSE**2) + (MAE**2) )\r\n",
        "print(\"IM: \", IM)\r\n",
        "print()"
      ],
      "execution_count": 11,
      "outputs": [
        {
          "output_type": "stream",
          "text": [
            "Gaussian Process\n",
            "MSE train: 43.538229424467985\n",
            "MSE test: 62.859055498963095\n",
            "MSE train < MSE test? True\n",
            "\n",
            "R2_train:  0.9676807872307465\n",
            "R2_test:  0.976045020071662\n",
            "\n",
            "R2:  0.976045020071662\n",
            "RMSE:  7.92837029275015\n",
            "MAE:  7.3556709922309125\n",
            "IM:  10.815060105518311\n",
            "\n"
          ],
          "name": "stdout"
        }
      ]
    },
    {
      "cell_type": "markdown",
      "metadata": {
        "id": "4kmdzayWwhA9"
      },
      "source": [
        "### RFR"
      ]
    },
    {
      "cell_type": "code",
      "metadata": {
        "colab": {
          "base_uri": "https://localhost:8080/"
        },
        "id": "6kLJ0SSekfuI",
        "outputId": "176139a9-0a8e-4f11-b4ec-11cc77f5792d"
      },
      "source": [
        "from sklearn.ensemble import RandomForestRegressor\r\n",
        "#KERNEL\r\n",
        "RFR=RandomForestRegressor(n_estimators=1000,max_depth=20)\r\n",
        "\r\n",
        "#START TRAINING\r\n",
        "RFR.fit(X_train,y_train)\r\n",
        "#PREDICTION\r\n",
        "y_pred=RFR.predict(X_test)\r\n",
        "\r\n",
        "#EVAL\r\n",
        "from sklearn.metrics import mean_squared_error as MSE\r\n",
        "MSE_test = MSE(y_test, y_pred)\r\n",
        "\r\n",
        "print(\"-----------------------------\")\r\n",
        "\r\n",
        "print('MSE test:', MSE_test)\r\n",
        "\r\n",
        "print()\r\n",
        "\r\n",
        "from sklearn.metrics import r2_score\r\n",
        "from sklearn.metrics import mean_absolute_error as MAE \r\n",
        "\r\n",
        "#METRICS: R2, RMSE, MAE\r\n",
        "R2=r2_score(y_test, y_pred)\r\n",
        "print('R2: ',R2)\r\n",
        "RMSE = np.sqrt(MSE_test)\r\n",
        "print(\"RMSE: \", RMSE)\r\n",
        "MAE = MAE(y_test, y_pred)\r\n",
        "print(\"MAE: \", MAE)\r\n",
        "IM=np.sqrt(((1-R2)**2) + (RMSE**2) + (MAE**2) )\r\n",
        "print(\"IM: \", IM)\r\n",
        "print()"
      ],
      "execution_count": 12,
      "outputs": [
        {
          "output_type": "stream",
          "text": [
            "-----------------------------\n",
            "MSE test: 219.7153708011935\n",
            "\n",
            "R2:  0.9162685908066701\n",
            "RMSE:  14.822799020468215\n",
            "MAE:  10.828610306349649\n",
            "IM:  18.35704722761427\n",
            "\n"
          ],
          "name": "stdout"
        }
      ]
    },
    {
      "cell_type": "markdown",
      "metadata": {
        "id": "hkMQ_W07zri6"
      },
      "source": [
        "### XGB"
      ]
    },
    {
      "cell_type": "code",
      "metadata": {
        "id": "rLTTuAFyzJeP"
      },
      "source": [
        "import pickle\r\n",
        "import xgboost as xgb\r\n",
        "\r\n",
        "xgbr = xgb.XGBRegressor(verbosity=0, n_estimators=1000, max_depth=8)\r\n",
        "xgbr.fit(X_train, y_train)\r\n",
        "y_pred = xgbr.predict(X_test)"
      ],
      "execution_count": 13,
      "outputs": []
    },
    {
      "cell_type": "code",
      "metadata": {
        "colab": {
          "base_uri": "https://localhost:8080/"
        },
        "id": "U12pnMB00Q68",
        "outputId": "3f6bd1be-a12c-4f42-ccf3-1a3d0c1240dd"
      },
      "source": [
        "print(xgbr)\r\n",
        "\r\n"
      ],
      "execution_count": 14,
      "outputs": [
        {
          "output_type": "stream",
          "text": [
            "XGBRegressor(base_score=0.5, booster='gbtree', colsample_bylevel=1,\n",
            "             colsample_bynode=1, colsample_bytree=1, gamma=0,\n",
            "             importance_type='gain', learning_rate=0.1, max_delta_step=0,\n",
            "             max_depth=8, min_child_weight=1, missing=None, n_estimators=1000,\n",
            "             n_jobs=1, nthread=None, objective='reg:linear', random_state=0,\n",
            "             reg_alpha=0, reg_lambda=1, scale_pos_weight=1, seed=None,\n",
            "             silent=None, subsample=1, verbosity=0)\n"
          ],
          "name": "stdout"
        }
      ]
    },
    {
      "cell_type": "code",
      "metadata": {
        "colab": {
          "base_uri": "https://localhost:8080/"
        },
        "id": "saBkb2to1tVK",
        "outputId": "1ac94ced-7799-47a2-d8a9-f7455ab2484a"
      },
      "source": [
        "score = xgbr.score(X_test, y_test)  \r\n",
        "print(\"Training score: \", score)"
      ],
      "execution_count": 15,
      "outputs": [
        {
          "output_type": "stream",
          "text": [
            "Training score:  0.9760406298274966\n"
          ],
          "name": "stdout"
        }
      ]
    },
    {
      "cell_type": "code",
      "metadata": {
        "colab": {
          "base_uri": "https://localhost:8080/"
        },
        "id": "P-auJlXw2D8o",
        "outputId": "0de25ee9-f5a8-427c-d994-ea09f3eab27e"
      },
      "source": [
        "print(\"-XGBRegressor -\")\r\n",
        "print(\"------------------\")\r\n",
        "\r\n",
        "#EVAL\r\n",
        "from sklearn.metrics import mean_squared_error as MSE\r\n",
        "MSE_test = MSE(y_test, y_pred)\r\n",
        "\r\n",
        "print('MSE test:', MSE_test)\r\n",
        "\r\n",
        "print()\r\n",
        "\r\n",
        "from sklearn.metrics import r2_score\r\n",
        "from sklearn.metrics import mean_absolute_error as MAE \r\n",
        "\r\n",
        "#METRICS: R2, RMSE, MAE\r\n",
        "R2=r2_score(y_test, y_pred)\r\n",
        "print('R2: ',R2)\r\n",
        "RMSE = np.sqrt(MSE_test)\r\n",
        "print(\"RMSE: \", RMSE)\r\n",
        "MAE = MAE(y_test, y_pred)\r\n",
        "print(\"MAE: \", MAE)\r\n",
        "IM=np.sqrt(((1-R2)**2) + (RMSE**2) + (MAE**2) )\r\n",
        "print(\"IM: \", IM)\r\n",
        "print()"
      ],
      "execution_count": 16,
      "outputs": [
        {
          "output_type": "stream",
          "text": [
            "-XGBRegressor -\n",
            "------------------\n",
            "MSE test: 62.87057571740937\n",
            "\n",
            "R2:  0.9760406298274966\n",
            "RMSE:  7.92909677815887\n",
            "MAE:  7.356282196044921\n",
            "IM:  10.81600839111527\n",
            "\n"
          ],
          "name": "stdout"
        }
      ]
    },
    {
      "cell_type": "markdown",
      "metadata": {
        "id": "obKfFgLjEyPo"
      },
      "source": [
        "### MLP"
      ]
    },
    {
      "cell_type": "code",
      "metadata": {
        "colab": {
          "base_uri": "https://localhost:8080/"
        },
        "id": "OaU1OBfsE1R6",
        "outputId": "433246fd-172a-4c44-b3f3-be3e30b6bf0b"
      },
      "source": [
        "from sklearn.neural_network import MLPRegressor\r\n",
        "\r\n",
        "MLP = MLPRegressor(hidden_layer_sizes=4,solver='lbfgs',learning_rate='adaptive',activation='relu',random_state=42, max_iter=2000)\r\n",
        "#MLP = MLPRegressor(hidden_layer_sizes=(1000,1000,1000), activation='relu', solver='adam', max_iter=800)\r\n",
        "\r\n",
        "#START TRAINING\r\n",
        "MLP.fit(X_train,y_train)\r\n",
        "#PREDICTION\r\n",
        "y_pred=MLP.predict(X_test)\r\n",
        "\r\n",
        "print()\r\n",
        "\r\n",
        "from sklearn.metrics import r2_score\r\n",
        "from sklearn.metrics import mean_absolute_error as MAE \r\n",
        "\r\n",
        "#METRICS: R2, RMSE, MAE\r\n",
        "R2=r2_score(y_test, y_pred)\r\n",
        "print('R2: ',R2)\r\n",
        "RMSE = np.sqrt(MSE_test)\r\n",
        "print(\"RMSE: \", RMSE)\r\n",
        "MAE = MAE(y_test, y_pred)\r\n",
        "print(\"MAE: \", MAE)\r\n",
        "IM=np.sqrt(((1-R2)**2) + (RMSE**2) + (MAE**2) )\r\n",
        "print(\"IM: \", IM)\r\n",
        "print()\r\n"
      ],
      "execution_count": 17,
      "outputs": [
        {
          "output_type": "stream",
          "text": [
            "\n",
            "R2:  0.6341583961662984\n",
            "RMSE:  7.92909677815887\n",
            "MAE:  24.801313460429615\n",
            "IM:  26.040536959882225\n",
            "\n"
          ],
          "name": "stdout"
        }
      ]
    },
    {
      "cell_type": "markdown",
      "metadata": {
        "id": "ZH9GOCC-GyMV"
      },
      "source": [
        "### DTR"
      ]
    },
    {
      "cell_type": "code",
      "metadata": {
        "colab": {
          "base_uri": "https://localhost:8080/"
        },
        "id": "-J7eZx8aG0wh",
        "outputId": "88a5eb09-a8e6-4492-c4ed-73912fa00b10"
      },
      "source": [
        "from sklearn.tree import DecisionTreeRegressor\r\n",
        "DT=DecisionTreeRegressor(max_depth=20)\r\n",
        "\r\n",
        "#START TRAINING\r\n",
        "DT.fit(X_train,y_train)\r\n",
        "#PREDICTION\r\n",
        "y_pred=DT.predict(X_test)\r\n",
        "print()\r\n",
        "\r\n",
        "from sklearn.metrics import r2_score\r\n",
        "from sklearn.metrics import mean_absolute_error as MAE \r\n",
        "\r\n",
        "#METRICS: R2, RMSE, MAE\r\n",
        "R2=r2_score(y_test, y_pred)\r\n",
        "print('R2: ',R2)\r\n",
        "RMSE = np.sqrt(MSE_test)\r\n",
        "print(\"RMSE: \", RMSE)\r\n",
        "MAE = MAE(y_test, y_pred)\r\n",
        "print(\"MAE: \", MAE)\r\n",
        "IM=np.sqrt(((1-R2)**2) + (RMSE**2) + (MAE**2) )\r\n",
        "print(\"IM: \", IM)\r\n",
        "print()\r\n"
      ],
      "execution_count": 18,
      "outputs": [
        {
          "output_type": "stream",
          "text": [
            "\n",
            "R2:  0.9760461263765746\n",
            "RMSE:  7.92909677815887\n",
            "MAE:  7.355500000000001\n",
            "IM:  10.815476399838841\n",
            "\n"
          ],
          "name": "stdout"
        }
      ]
    },
    {
      "cell_type": "markdown",
      "metadata": {
        "id": "ZOYI1QkauabG"
      },
      "source": [
        "# Comparisson"
      ]
    },
    {
      "cell_type": "code",
      "metadata": {
        "colab": {
          "base_uri": "https://localhost:8080/",
          "height": 411
        },
        "id": "fPy9q6RU3ZF2",
        "outputId": "89f01b26-6b1a-4204-d6b0-11aa5bd5b427"
      },
      "source": [
        "models = [ GBR ,  GP, xgbr]\r\n",
        "labels = ['GBR', 'GPs', 'XGBR']\r\n",
        "\r\n",
        "fig = plt.figure()\r\n",
        "fig.set_size_inches((9,6))\r\n",
        "\r\n",
        "for mod, label in zip( models, labels): \r\n",
        "  y_pred = mod.predict(X)\r\n",
        "  plt.plot(Y, y_pred, 'o' ,label = label)\r\n",
        "\r\n",
        "plt.plot([y_pred.min(), y_pred.max()], [y_pred.min(), y_pred.max()], 'k--')\r\n",
        "plt.ylabel('Predicted wall width (mm)')\r\n",
        "plt.xlabel('Measured wall width (mm)')\r\n",
        "plt.legend()  \r\n",
        "  "
      ],
      "execution_count": 19,
      "outputs": [
        {
          "output_type": "execute_result",
          "data": {
            "text/plain": [
              "<matplotlib.legend.Legend at 0x7f92d3af6610>"
            ]
          },
          "metadata": {
            "tags": []
          },
          "execution_count": 19
        },
        {
          "output_type": "display_data",
          "data": {
            "image/png": "[encoded data removed]",
            "text/plain": [
              "<Figure size 648x432 with 1 Axes>"
            ]
          },
          "metadata": {
            "tags": []
          }
        }
      ]
    },
    {
      "cell_type": "markdown",
      "metadata": {
        "id": "spmg1zsfAUPp"
      },
      "source": [
        "Worst"
      ]
    },
    {
      "cell_type": "code",
      "metadata": {
        "colab": {
          "base_uri": "https://localhost:8080/",
          "height": 411
        },
        "id": "FQO6KSabAnrJ",
        "outputId": "d4875c80-2b60-40fc-9dac-b0eb2de3c11f"
      },
      "source": [
        "models = [ MLP, DT, RFR  ]\r\n",
        "labels = [ 'MLP', 'DTR', 'RFR']\r\n",
        "\r\n",
        "fig = plt.figure()\r\n",
        "fig.set_size_inches((9,6))\r\n",
        "\r\n",
        "for mod, label in zip( models, labels): \r\n",
        "  y_pred = mod.predict(X)\r\n",
        "  plt.plot(Y, y_pred, 'o' ,label = label)\r\n",
        "\r\n",
        "plt.plot([y_pred.min(), y_pred.max()], [y_pred.min(), y_pred.max()], 'k--')\r\n",
        "plt.ylabel('Predicted wall width (mm)')\r\n",
        "plt.xlabel('Measured wall width (mm)')\r\n",
        "plt.legend()  "
      ],
      "execution_count": 20,
      "outputs": [
        {
          "output_type": "execute_result",
          "data": {
            "text/plain": [
              "<matplotlib.legend.Legend at 0x7f92d3add810>"
            ]
          },
          "metadata": {
            "tags": []
          },
          "execution_count": 20
        },
        {
          "output_type": "display_data",
          "data": {
            "image/png": "[encoded data removed]",
            "text/plain": [
              "<Figure size 648x432 with 1 Axes>"
            ]
          },
          "metadata": {
            "tags": []
          }
        }
      ]
    },
    {
      "cell_type": "code",
      "metadata": {
        "colab": {
          "base_uri": "https://localhost:8080/",
          "height": 412
        },
        "id": "isfDLIFVXXyd",
        "outputId": "7e604b88-5cde-42d8-e5dd-d75f96cbcdd2"
      },
      "source": [
        "models = [xgbr,  GBR,  GP, DT,  RFR ]\r\n",
        "labels = ['XGBR',  'GBR',   'GPs', 'DTR',  'RFR']\r\n",
        "\r\n",
        "fig = plt.figure()\r\n",
        "fig.set_size_inches((9,6))\r\n",
        "\r\n",
        "for mod, label in zip( models, labels): \r\n",
        "  y_pred = mod.predict(X)\r\n",
        "  plt.plot(Y, y_pred, 'o' ,label = label)\r\n",
        "\r\n",
        "plt.plot([y_pred.min(), y_pred.max()], [y_pred.min(), y_pred.max()], 'k--')\r\n",
        "plt.ylabel('$y^*_{test}$')\r\n",
        "plt.xlabel('$y_{test}$')\r\n",
        "plt.legend()"
      ],
      "execution_count": 21,
      "outputs": [
        {
          "output_type": "execute_result",
          "data": {
            "text/plain": [
              "<matplotlib.legend.Legend at 0x7f92d4256f10>"
            ]
          },
          "metadata": {
            "tags": []
          },
          "execution_count": 21
        },
        {
          "output_type": "display_data",
          "data": {
            "image/png": "[encoded data removed]",
            "text/plain": [
              "<Figure size 648x432 with 1 Axes>"
            ]
          },
          "metadata": {
            "tags": []
          }
        }
      ]
    },
    {
      "cell_type": "markdown",
      "metadata": {
        "id": "vaV3ZE0ctxzA"
      },
      "source": [
        "# CROSS-VALIDATION"
      ]
    },
    {
      "cell_type": "code",
      "metadata": {
        "colab": {
          "base_uri": "https://localhost:8080/"
        },
        "id": "lUE93GSRXjoz",
        "outputId": "d3d42bfe-4a58-484d-e4d2-0d4d9a693129"
      },
      "source": [
        "from sklearn.metrics import r2_score\r\n",
        "from sklearn.metrics import mean_squared_error as MSE\r\n",
        "from sklearn.metrics import mean_absolute_error \r\n",
        "from sklearn.model_selection import cross_val_score as CV\r\n",
        "\r\n",
        "import warnings\r\n",
        "warnings.filterwarnings('ignore')\r\n",
        "\r\n",
        "models = [xgbr,  GBR,  GP, DT, MLP, RFR ]\r\n",
        "labels = ['XGBR',  'GBR',   'GPs', 'DTR', 'MLP', 'RFR']\r\n",
        "IMS = []\r\n",
        "\r\n",
        "print(\"--------------------------------------------------------------\")\r\n",
        "print(\"%5s | %5s | %5s | %5s | %5s \" % (\"ML algorithm\",  \"CV-R2\", \"CV-MSE\", \"CV-MAE\", \"IM\"))\r\n",
        "print(\"--------------------------------------------------------------\")\r\n",
        "\r\n",
        "for mod, label in zip( models, labels): \r\n",
        "  y_star_train = mod.predict(X_train)\r\n",
        " \r\n",
        "  scoreR2 = CV(mod, X_train, y_train, cv=5, scoring='r2')\r\n",
        "  #print(-1*scoreR2)\r\n",
        "  scoreMSE = CV(mod, X_train, y_train, cv=5, scoring='neg_mean_squared_error')\r\n",
        "  #print(-1*scoreMSE)\r\n",
        "  scoreMAE = CV(mod, X_train, y_train, cv=5, scoring='neg_mean_absolute_error')\r\n",
        "  #print(-1*scoreMAE)\r\n",
        "  IM=np.sqrt(((1-scoreR2)**2) + (scoreMSE) + (scoreMAE**2) )\r\n",
        "  #print(\"IM: \", IM)\r\n",
        "  \r\n",
        " \r\n",
        "  print(\"%15s | %.4f | %.4f | %.4f | %.4f \" % (label,  scoreR2.mean(), -1*scoreMSE.mean(), -1*scoreMAE.mean() , np.sqrt(((1-scoreR2.mean())**2) + (-1*scoreMSE.mean()) + (scoreMAE.mean()**2) )))\r\n",
        "print(\"--------------------------------------------------------------\")"
      ],
      "execution_count": 22,
      "outputs": [
        {
          "output_type": "stream",
          "text": [
            "--------------------------------------------------------------\n",
            "ML algorithm | CV-R2 | CV-MSE | CV-MAE |    IM \n",
            "--------------------------------------------------------------\n",
            "           XGBR | 0.8719 | 159.4250 | 9.4905 | 15.7959 \n",
            "            GBR | 0.9073 | 113.6947 | 8.3484 | 13.5425 \n",
            "            GPs | 0.7398 | 324.2730 | 10.9564 | 21.0804 \n",
            "            DTR | 0.7731 | 284.9736 | 11.7279 | 20.5565 \n",
            "            MLP | -0.2878 | 1554.7296 | 33.6693 | 51.8653 \n",
            "            RFR | 0.7555 | 302.5363 | 12.4267 | 21.3780 \n",
            "--------------------------------------------------------------\n"
          ],
          "name": "stdout"
        }
      ]
    },
    {
      "cell_type": "code",
      "metadata": {
        "id": "AuCGPfKiQI61"
      },
      "source": [
        ""
      ],
      "execution_count": 22,
      "outputs": []
    }
  ]
}