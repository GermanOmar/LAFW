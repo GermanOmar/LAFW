{
  "nbformat": 4,
  "nbformat_minor": 0,
  "metadata": {
    "accelerator": "GPU",
    "colab": {
      "name": "LAFW3.ipynb",
      "provenance": [],
      "collapsed_sections": [],
      "toc_visible": true,
      "mount_file_id": "https://github.com/GermanOmar/ANN1/blob/main/NN1_L2.ipynb",
      "authorship_tag": "ABX9TyP2TAb35/slwt7+B4p6LcA0",
      "include_colab_link": true
    },
    "kernelspec": {
      "display_name": "Python 3",
      "name": "python3"
    }
  },
  "cells": [
    {
      "cell_type": "markdown",
      "metadata": {
        "id": "view-in-github",
        "colab_type": "text"
      },
      "source": [
        "<a href=\"https://colab.research.google.com/github/GermanOmar/LAFW/blob/master/LAFW3.ipynb\" target=\"_parent\"><img src=\"https://colab.research.google.com/assets/colab-badge.svg\" alt=\"Open In Colab\"/></a>"
      ]
    },
    {
      "cell_type": "markdown",
      "metadata": {
        "id": "rqI9VDT0RdWk"
      },
      "source": [
        "# Machine learning regressors for UTS prediction in laser-assisted rotary friction welding\n"
      ]
    },
    {
      "cell_type": "markdown",
      "metadata": {
        "id": "2OOvQQeg7d0g"
      },
      "source": [
        "<a href=\"https://ibb.co/h2Prbq5\"><img src=\"https://i.ibb.co/2cDRxb2/Imagen1.png\" WIDTH=\"329\" HEIGHT=\"713\"  border=\"0\"></a>"
      ]
    },
    {
      "cell_type": "markdown",
      "metadata": {
        "id": "3-T6Z2bdRvSm"
      },
      "source": [
        " Libraries"
      ]
    },
    {
      "cell_type": "code",
      "metadata": {
        "id": "ltCb1Iw6Raez"
      },
      "source": [
        "import numpy as np\n",
        "import pandas as pd\n",
        "from matplotlib import pyplot as plt\n",
        "from sklearn import preprocessing\n",
        "from sklearn.utils import shuffle"
      ],
      "execution_count": 1,
      "outputs": []
    },
    {
      "cell_type": "markdown",
      "metadata": {
        "id": "1Mbfb5c9yu5p"
      },
      "source": [
        " Upload database:"
      ]
    },
    {
      "cell_type": "code",
      "metadata": {
        "colab": {
          "base_uri": "https://localhost:8080/"
        },
        "id": "_V3jfdhPsEKW",
        "outputId": "7cb3fac0-7bf8-42f6-9ab9-e957dc7943b9"
      },
      "source": [
        "!git clone https://github.com/GermanOmar/LAFW"
      ],
      "execution_count": 2,
      "outputs": [
        {
          "output_type": "stream",
          "text": [
            "Cloning into 'LAFW'...\n",
            "remote: Enumerating objects: 16, done.\u001b[K\n",
            "remote: Counting objects: 100% (16/16), done.\u001b[K\n",
            "remote: Compressing objects: 100% (14/14), done.\u001b[K\n",
            "remote: Total 16 (delta 1), reused 0 (delta 0), pack-reused 0\u001b[K\n",
            "Unpacking objects: 100% (16/16), done.\n"
          ],
          "name": "stdout"
        }
      ]
    },
    {
      "cell_type": "code",
      "metadata": {
        "colab": {
          "base_uri": "https://localhost:8080/",
          "height": 284
        },
        "id": "Yx-ovik8xxJx",
        "outputId": "a80ef232-192d-463f-f377-95e406a09963"
      },
      "source": [
        "#Experimental data\n",
        "data = pd.read_table('data.txt') \n",
        "data.describe()\n"
      ],
      "execution_count": 3,
      "outputs": [
        {
          "output_type": "execute_result",
          "data": {
            "text/html": [
              "<div>\n",
              "<style scoped>\n",
              "    .dataframe tbody tr th:only-of-type {\n",
              "        vertical-align: middle;\n",
              "    }\n",
              "\n",
              "    .dataframe tbody tr th {\n",
              "        vertical-align: top;\n",
              "    }\n",
              "\n",
              "    .dataframe thead th {\n",
              "        text-align: right;\n",
              "    }\n",
              "</style>\n",
              "<table border=\"1\" class=\"dataframe\">\n",
              "  <thead>\n",
              "    <tr style=\"text-align: right;\">\n",
              "      <th></th>\n",
              "      <th>N</th>\n",
              "      <th>FP</th>\n",
              "      <th>LP</th>\n",
              "      <th>UTS</th>\n",
              "    </tr>\n",
              "  </thead>\n",
              "  <tbody>\n",
              "    <tr>\n",
              "      <th>count</th>\n",
              "      <td>48.000000</td>\n",
              "      <td>48.000000</td>\n",
              "      <td>48.000000</td>\n",
              "      <td>48.000000</td>\n",
              "    </tr>\n",
              "    <tr>\n",
              "      <th>mean</th>\n",
              "      <td>1700.000000</td>\n",
              "      <td>17.500000</td>\n",
              "      <td>600.000000</td>\n",
              "      <td>148.130417</td>\n",
              "    </tr>\n",
              "    <tr>\n",
              "      <th>std</th>\n",
              "      <td>101.058231</td>\n",
              "      <td>3.537038</td>\n",
              "      <td>378.125275</td>\n",
              "      <td>40.693220</td>\n",
              "    </tr>\n",
              "    <tr>\n",
              "      <th>min</th>\n",
              "      <td>1600.000000</td>\n",
              "      <td>14.000000</td>\n",
              "      <td>0.000000</td>\n",
              "      <td>60.300000</td>\n",
              "    </tr>\n",
              "    <tr>\n",
              "      <th>25%</th>\n",
              "      <td>1600.000000</td>\n",
              "      <td>14.000000</td>\n",
              "      <td>450.000000</td>\n",
              "      <td>114.300000</td>\n",
              "    </tr>\n",
              "    <tr>\n",
              "      <th>50%</th>\n",
              "      <td>1700.000000</td>\n",
              "      <td>17.500000</td>\n",
              "      <td>700.000000</td>\n",
              "      <td>149.750000</td>\n",
              "    </tr>\n",
              "    <tr>\n",
              "      <th>75%</th>\n",
              "      <td>1800.000000</td>\n",
              "      <td>21.000000</td>\n",
              "      <td>850.000000</td>\n",
              "      <td>176.825000</td>\n",
              "    </tr>\n",
              "    <tr>\n",
              "      <th>max</th>\n",
              "      <td>1800.000000</td>\n",
              "      <td>21.000000</td>\n",
              "      <td>1000.000000</td>\n",
              "      <td>215.400000</td>\n",
              "    </tr>\n",
              "  </tbody>\n",
              "</table>\n",
              "</div>"
            ],
            "text/plain": [
              "                 N         FP           LP         UTS\n",
              "count    48.000000  48.000000    48.000000   48.000000\n",
              "mean   1700.000000  17.500000   600.000000  148.130417\n",
              "std     101.058231   3.537038   378.125275   40.693220\n",
              "min    1600.000000  14.000000     0.000000   60.300000\n",
              "25%    1600.000000  14.000000   450.000000  114.300000\n",
              "50%    1700.000000  17.500000   700.000000  149.750000\n",
              "75%    1800.000000  21.000000   850.000000  176.825000\n",
              "max    1800.000000  21.000000  1000.000000  215.400000"
            ]
          },
          "metadata": {
            "tags": []
          },
          "execution_count": 3
        }
      ]
    },
    {
      "cell_type": "markdown",
      "metadata": {
        "id": "lFVoj9tfSQJJ"
      },
      "source": [
        "\r\n",
        "Setting inputs - output:"
      ]
    },
    {
      "cell_type": "code",
      "metadata": {
        "colab": {
          "base_uri": "https://localhost:8080/",
          "height": 472
        },
        "id": "j4RPoTbW_VVs",
        "outputId": "68d00b5b-28ad-4395-d952-d4166f8dee1b"
      },
      "source": [
        "fields = [ 'N', 'FP','LP', 'UTS']\n",
        "import seaborn as sns\n",
        "sns.set()\n",
        "\n",
        "fig = plt.figure()\n",
        "fig.set_size_inches((12,8))\n",
        "for i, field in enumerate(fields):\n",
        "  plt.subplot(3, 3, i + 1)\n",
        "  plt.plot(data[field], data['UTS'], 'b*')\n",
        "  plt.xlabel(field)\n",
        "  plt.ylabel('UTS')\n",
        "\n",
        "plt.tight_layout()\n",
        "\n",
        "X=data[[ 'N', 'FP','LP']]\n",
        "Y=data['UTS'][:,None]\n",
        "\n",
        "\n",
        "\n",
        "#fig.tight_layout()"
      ],
      "execution_count": 4,
      "outputs": [
        {
          "output_type": "stream",
          "text": [
            "/usr/local/lib/python3.7/dist-packages/ipykernel_launcher.py:16: FutureWarning: Support for multi-dimensional indexing (e.g. `obj[:, None]`) is deprecated and will be removed in a future version.  Convert to a numpy array before indexing instead.\n",
            "  app.launch_new_instance()\n"
          ],
          "name": "stderr"
        },
        {
          "output_type": "display_data",
          "data": {
            "image/png": "[encoded data removed]",
            "text/plain": [
              "<Figure size 864x576 with 4 Axes>"
            ]
          },
          "metadata": {
            "tags": []
          }
        }
      ]
    },
    {
      "cell_type": "markdown",
      "metadata": {
        "id": "7o8zckSzFI7O"
      },
      "source": [
        "#UTS prediction"
      ]
    },
    {
      "cell_type": "code",
      "metadata": {
        "id": "N9C38QmsAXm-"
      },
      "source": [
        "def normalize(X, X_mu, X_std):\r\n",
        "  return (X - X_mu)/X_std\r\n",
        "\r\n",
        "def denormalize(Xn, X_mu, X_std):\r\n",
        "  return Xn*X_std + X_mu\r\n",
        "\r\n",
        "X_std = X.std(0)\r\n",
        "X_mu = X.mean(0)\r\n",
        "Xn = normalize(X, X_mu, X_std)\r\n",
        "\r\n",
        "Y_std = Y.std(0)\r\n",
        "Y_mu = Y.mean(0)\r\n",
        "Yn = normalize(Y, Y_mu, Y_std)"
      ],
      "execution_count": 5,
      "outputs": []
    },
    {
      "cell_type": "markdown",
      "metadata": {
        "id": "Q6pAiesfTDDU"
      },
      "source": [
        " Split data"
      ]
    },
    {
      "cell_type": "code",
      "metadata": {
        "colab": {
          "base_uri": "https://localhost:8080/"
        },
        "id": "HI3IlTeHTF_Z",
        "outputId": "920570d9-71ae-4255-ff93-aafe60a035b4"
      },
      "source": [
        "from sklearn.model_selection import train_test_split\n",
        "\n",
        "X_train, X_test, y_train, y_test = train_test_split(Xn, Yn, test_size=0.2, random_state=42)\n",
        "print('training samples:', X_train.shape[0],  ' test samples:', X_test.shape[0])"
      ],
      "execution_count": 6,
      "outputs": [
        {
          "output_type": "stream",
          "text": [
            "training samples: 38  test samples: 10\n"
          ],
          "name": "stdout"
        }
      ]
    },
    {
      "cell_type": "markdown",
      "metadata": {
        "id": "7Zk7lMoGhdFO"
      },
      "source": [
        "#Results:"
      ]
    },
    {
      "cell_type": "markdown",
      "metadata": {
        "id": "NL8FawXuyV0d"
      },
      "source": [
        "###GBR "
      ]
    },
    {
      "cell_type": "code",
      "metadata": {
        "colab": {
          "base_uri": "https://localhost:8080/"
        },
        "id": "cGJU9U3RouUl",
        "outputId": "2df9a650-e4c4-4e7e-fcd9-2933ab97bcdf"
      },
      "source": [
        "from sklearn.ensemble import GradientBoostingRegressor\r\n",
        "#KERNEL\r\n",
        "#GBR=GradientBoostingRegressor(n_estimators=100, random_state=0)\r\n",
        "GBR=GradientBoostingRegressor(n_estimators=5000, random_state=32, learning_rate=0.1 )\r\n",
        "\r\n",
        "#START TRAINING\r\n",
        "GBR.fit(X_train,y_train)\r\n",
        "#PREDICTION\r\n",
        "y_pred=GBR.predict(X_test)\r\n",
        "\r\n",
        "#EVAL\r\n",
        "from sklearn.metrics import mean_squared_error as MSE\r\n",
        "MSE_test = MSE(y_test, y_pred)\r\n",
        "\r\n",
        " \r\n",
        "print(\"-Gradient boosting regressor-\")\r\n",
        "print(\"-----------------------------\")\r\n",
        "\r\n",
        "print('MSE test:', MSE_test)\r\n",
        "\r\n",
        "print()\r\n",
        "\r\n",
        "from sklearn.metrics import r2_score\r\n",
        "from sklearn.metrics import mean_absolute_error as MAE \r\n",
        "\r\n",
        "#METRICS: R2, RMSE, MAE\r\n",
        "R2=r2_score(y_test, y_pred)\r\n",
        "print('R2: ',R2)\r\n",
        "RMSE = np.sqrt(MSE_test)\r\n",
        "print(\"RMSE: \", RMSE)\r\n",
        "MAE = MAE(y_test, y_pred)\r\n",
        "print(\"MAE: \", MAE)\r\n",
        "IM=np.sqrt(((1-R2)**2) + (RMSE**2) + (MAE**2) )\r\n",
        "print(\"IM: \", IM)\r\n",
        "print()\r\n"
      ],
      "execution_count": 7,
      "outputs": [
        {
          "output_type": "stream",
          "text": [
            "/usr/local/lib/python3.7/dist-packages/sklearn/ensemble/_gb.py:1454: DataConversionWarning: A column-vector y was passed when a 1d array was expected. Please change the shape of y to (n_samples, ), for example using ravel().\n",
            "  y = column_or_1d(y, warn=True)\n"
          ],
          "name": "stderr"
        },
        {
          "output_type": "stream",
          "text": [
            "-Gradient boosting regressor-\n",
            "-----------------------------\n",
            "MSE test: 0.038766091394371135\n",
            "\n",
            "R2:  0.9760458527967669\n",
            "RMSE:  0.19689106479058702\n",
            "MAE:  0.18266801420277887\n",
            "IM:  0.2696432754128905\n",
            "\n"
          ],
          "name": "stdout"
        }
      ]
    },
    {
      "cell_type": "markdown",
      "metadata": {
        "id": "IVHzaa4EkSPe"
      },
      "source": [
        "### GPs"
      ]
    },
    {
      "cell_type": "code",
      "metadata": {
        "colab": {
          "base_uri": "https://localhost:8080/"
        },
        "id": "abeE5km2aix5",
        "outputId": "3e35d12c-27d6-4f4f-cf08-880ea988bd10"
      },
      "source": [
        "from sklearn.gaussian_process import GaussianProcessRegressor as GPR\r\n",
        "from sklearn.gaussian_process.kernels import RBF, ConstantKernel as C\r\n",
        "kernel = C(1.0, (1e-3, 1e3)) * RBF(10, (1e-2, 1e2))\r\n",
        " \r\n",
        "GP=GPR(kernel=kernel, n_restarts_optimizer=9, alpha=0.01, normalize_y=True)\r\n",
        " \r\n",
        "#Training\r\n",
        "GP.fit(X_train,y_train)\r\n",
        " \r\n",
        "#Testing\r\n",
        "y_star_train = GP.predict(X_train)\r\n",
        "y_pred = GP.predict(X_test)\r\n",
        " \r\n",
        "from sklearn.metrics import mean_squared_error\r\n",
        "MSE_test = mean_squared_error(y_test, y_pred)\r\n",
        "MSE_train = mean_squared_error(y_train, y_star_train)\r\n",
        " \r\n",
        "print(\"Gaussian Process\")\r\n",
        "print('MSE train:', MSE_train)\r\n",
        "print('MSE test:', MSE_test)\r\n",
        "print(\"MSE train < MSE test?\", MSE_train < MSE_test)\r\n",
        "print()\r\n",
        "from sklearn.metrics import r2_score\r\n",
        "R2_train=r2_score(y_train, y_star_train)\r\n",
        "print('R2_train: ',R2_train)\r\n",
        "R2_test=r2_score(y_test, y_pred)\r\n",
        "print('R2_test: ',R2_test)\r\n",
        "print()\r\n",
        "\"\"\" \r\n",
        "RE=100 * abs(y_test - y_pred) / y_test\r\n",
        "print('Relative error (%): ',RE)\r\n",
        "\"\"\"\r\n",
        "from sklearn.metrics import r2_score\r\n",
        "from sklearn.metrics import mean_absolute_error as MAE \r\n",
        "#METRICS: R2, RMSE, MAE\r\n",
        "R2=r2_score(y_test, y_pred)\r\n",
        "print('R2: ',R2)\r\n",
        "RMSE = np.sqrt(MSE_test)\r\n",
        "print(\"RMSE: \", RMSE)\r\n",
        "MAE = MAE(y_test, y_pred)\r\n",
        "print(\"MAE: \", MAE)\r\n",
        "IM=np.sqrt(((1-R2)**2) + (RMSE**2) + (MAE**2) )\r\n",
        "print(\"IM: \", IM)\r\n",
        "print()"
      ],
      "execution_count": 8,
      "outputs": [
        {
          "output_type": "stream",
          "text": [
            "Gaussian Process\n",
            "MSE train: 0.02700644807318248\n",
            "MSE test: 0.038636349887548126\n",
            "MSE train < MSE test? True\n",
            "\n",
            "R2_train:  0.9674943976915393\n",
            "R2_test:  0.976126022012724\n",
            "\n",
            "R2:  0.976126022012724\n",
            "RMSE:  0.19656131330337648\n",
            "MAE:  0.1804852119102049\n",
            "IM:  0.2679201904126612\n",
            "\n"
          ],
          "name": "stdout"
        }
      ]
    },
    {
      "cell_type": "markdown",
      "metadata": {
        "id": "4kmdzayWwhA9"
      },
      "source": [
        "### RFR"
      ]
    },
    {
      "cell_type": "code",
      "metadata": {
        "colab": {
          "base_uri": "https://localhost:8080/"
        },
        "id": "6kLJ0SSekfuI",
        "outputId": "316aa72b-9f27-448f-c801-48beb45c347b"
      },
      "source": [
        "from sklearn.ensemble import RandomForestRegressor\r\n",
        "#KERNEL\r\n",
        "RFR=RandomForestRegressor(n_estimators=1000,max_depth=20)\r\n",
        "\r\n",
        "#START TRAINING\r\n",
        "RFR.fit(X_train,y_train)\r\n",
        "#PREDICTION\r\n",
        "y_pred=RFR.predict(X_test)\r\n",
        "\r\n",
        "#EVAL\r\n",
        "from sklearn.metrics import mean_squared_error as MSE\r\n",
        "MSE_test = MSE(y_test, y_pred)\r\n",
        "\r\n",
        "print(\"-----------------------------\")\r\n",
        "\r\n",
        "print('MSE test:', MSE_test)\r\n",
        "\r\n",
        "print()\r\n",
        "\r\n",
        "from sklearn.metrics import r2_score\r\n",
        "from sklearn.metrics import mean_absolute_error as MAE \r\n",
        "\r\n",
        "#METRICS: R2, RMSE, MAE\r\n",
        "R2=r2_score(y_test, y_pred)\r\n",
        "print('R2: ',R2)\r\n",
        "RMSE = np.sqrt(MSE_test)\r\n",
        "print(\"RMSE: \", RMSE)\r\n",
        "MAE = MAE(y_test, y_pred)\r\n",
        "print(\"MAE: \", MAE)\r\n",
        "IM=np.sqrt(((1-R2)**2) + (RMSE**2) + (MAE**2) )\r\n",
        "print(\"IM: \", IM)\r\n",
        "print()"
      ],
      "execution_count": 9,
      "outputs": [
        {
          "output_type": "stream",
          "text": [
            "/usr/local/lib/python3.7/dist-packages/ipykernel_launcher.py:6: DataConversionWarning: A column-vector y was passed when a 1d array was expected. Please change the shape of y to (n_samples,), for example using ravel().\n",
            "  \n"
          ],
          "name": "stderr"
        },
        {
          "output_type": "stream",
          "text": [
            "-----------------------------\n",
            "MSE test: 0.14649033929019006\n",
            "\n",
            "R2:  0.9094814301624877\n",
            "RMSE:  0.3827405639466374\n",
            "MAE:  0.2753838063363096\n",
            "IM:  0.48012518322609643\n",
            "\n"
          ],
          "name": "stdout"
        }
      ]
    },
    {
      "cell_type": "markdown",
      "metadata": {
        "id": "hkMQ_W07zri6"
      },
      "source": [
        "### XGB"
      ]
    },
    {
      "cell_type": "code",
      "metadata": {
        "id": "rLTTuAFyzJeP"
      },
      "source": [
        "import pickle\r\n",
        "import xgboost as xgb\r\n",
        "\r\n",
        "xgbr = xgb.XGBRegressor(verbosity=0, n_estimators=1000, max_depth=8)\r\n",
        "xgbr.fit(X_train, y_train)\r\n",
        "y_pred = xgbr.predict(X_test)"
      ],
      "execution_count": 10,
      "outputs": []
    },
    {
      "cell_type": "code",
      "metadata": {
        "colab": {
          "base_uri": "https://localhost:8080/"
        },
        "id": "U12pnMB00Q68",
        "outputId": "b3a53314-9322-4553-ab7e-0298fe3b123a"
      },
      "source": [
        "print(xgbr)\r\n",
        "\r\n"
      ],
      "execution_count": 11,
      "outputs": [
        {
          "output_type": "stream",
          "text": [
            "XGBRegressor(base_score=0.5, booster='gbtree', colsample_bylevel=1,\n",
            "             colsample_bynode=1, colsample_bytree=1, gamma=0,\n",
            "             importance_type='gain', learning_rate=0.1, max_delta_step=0,\n",
            "             max_depth=8, min_child_weight=1, missing=None, n_estimators=1000,\n",
            "             n_jobs=1, nthread=None, objective='reg:linear', random_state=0,\n",
            "             reg_alpha=0, reg_lambda=1, scale_pos_weight=1, seed=None,\n",
            "             silent=None, subsample=1, verbosity=0)\n"
          ],
          "name": "stdout"
        }
      ]
    },
    {
      "cell_type": "code",
      "metadata": {
        "colab": {
          "base_uri": "https://localhost:8080/"
        },
        "id": "saBkb2to1tVK",
        "outputId": "de0952fc-8f6b-4a1c-9557-85dd472e2241"
      },
      "source": [
        "score = xgbr.score(X_test, y_test)  \r\n",
        "print(\"Training score: \", score)"
      ],
      "execution_count": 12,
      "outputs": [
        {
          "output_type": "stream",
          "text": [
            "Training score:  0.9758883557162752\n"
          ],
          "name": "stdout"
        }
      ]
    },
    {
      "cell_type": "code",
      "metadata": {
        "colab": {
          "base_uri": "https://localhost:8080/"
        },
        "id": "P-auJlXw2D8o",
        "outputId": "fe2ce9f5-e973-42fa-fce9-08c5b0d1561d"
      },
      "source": [
        "print(\"-XGBRegressor -\")\r\n",
        "print(\"------------------\")\r\n",
        "\r\n",
        "#EVAL\r\n",
        "from sklearn.metrics import mean_squared_error as MSE\r\n",
        "MSE_test = MSE(y_test, y_pred)\r\n",
        "\r\n",
        "print('MSE test:', MSE_test)\r\n",
        "\r\n",
        "print()\r\n",
        "\r\n",
        "from sklearn.metrics import r2_score\r\n",
        "from sklearn.metrics import mean_absolute_error as MAE \r\n",
        "\r\n",
        "#METRICS: R2, RMSE, MAE\r\n",
        "R2=r2_score(y_test, y_pred)\r\n",
        "print('R2: ',R2)\r\n",
        "RMSE = np.sqrt(MSE_test)\r\n",
        "print(\"RMSE: \", RMSE)\r\n",
        "MAE = MAE(y_test, y_pred)\r\n",
        "print(\"MAE: \", MAE)\r\n",
        "IM=np.sqrt(((1-R2)**2) + (RMSE**2) + (MAE**2) )\r\n",
        "print(\"IM: \", IM)\r\n",
        "print()"
      ],
      "execution_count": 13,
      "outputs": [
        {
          "output_type": "stream",
          "text": [
            "-XGBRegressor -\n",
            "------------------\n",
            "MSE test: 0.039020976119128366\n",
            "\n",
            "R2:  0.9758883557162752\n",
            "RMSE:  0.19753727779618804\n",
            "MAE:  0.1831962935970453\n",
            "IM:  0.270487022788318\n",
            "\n"
          ],
          "name": "stdout"
        }
      ]
    },
    {
      "cell_type": "code",
      "metadata": {
        "colab": {
          "base_uri": "https://localhost:8080/",
          "height": 318
        },
        "id": "y9iN5fEwukSL",
        "outputId": "e3551792-4bf8-46ba-ea57-ef57b04f7159"
      },
      "source": [
        "# get importance\r\n",
        "importance = xgbr.feature_importances_\r\n",
        "# summarize feature importance\r\n",
        "for i,v in enumerate(importance):\r\n",
        "\tprint('Feature: %0d, Score: %.5f' % (i,v))\r\n",
        "# plot feature importance\r\n",
        "plt.bar([x for x in range(len(importance))], importance)\r\n",
        "plt.show()"
      ],
      "execution_count": 14,
      "outputs": [
        {
          "output_type": "stream",
          "text": [
            "Feature: 0, Score: 0.09419\n",
            "Feature: 1, Score: 0.28351\n",
            "Feature: 2, Score: 0.62230\n"
          ],
          "name": "stdout"
        },
        {
          "output_type": "display_data",
          "data": {
            "image/png": "[encoded data removed]",
            "text/plain": [
              "<Figure size 432x288 with 1 Axes>"
            ]
          },
          "metadata": {
            "tags": []
          }
        }
      ]
    },
    {
      "cell_type": "markdown",
      "metadata": {
        "id": "obKfFgLjEyPo"
      },
      "source": [
        "### MLP"
      ]
    },
    {
      "cell_type": "code",
      "metadata": {
        "colab": {
          "base_uri": "https://localhost:8080/"
        },
        "id": "OaU1OBfsE1R6",
        "outputId": "fe1a26c3-9725-4696-c222-f76d94ef3057"
      },
      "source": [
        "from sklearn.neural_network import MLPRegressor\r\n",
        "\r\n",
        "MLP = MLPRegressor(hidden_layer_sizes=4,solver='lbfgs',learning_rate='adaptive',activation='relu',random_state=42, max_iter=2000)\r\n",
        "#MLP = MLPRegressor(hidden_layer_sizes=(1000,1000,1000), activation='relu', solver='adam', max_iter=800)\r\n",
        "\r\n",
        "#START TRAINING\r\n",
        "MLP.fit(X_train,y_train)\r\n",
        "#PREDICTION\r\n",
        "y_pred=MLP.predict(X_test)\r\n",
        "\r\n",
        "print()\r\n",
        "\r\n",
        "from sklearn.metrics import r2_score\r\n",
        "from sklearn.metrics import mean_absolute_error as MAE \r\n",
        "\r\n",
        "#METRICS: R2, RMSE, MAE\r\n",
        "R2=r2_score(y_test, y_pred)\r\n",
        "print('R2: ',R2)\r\n",
        "RMSE = np.sqrt(MSE_test)\r\n",
        "print(\"RMSE: \", RMSE)\r\n",
        "MAE = MAE(y_test, y_pred)\r\n",
        "print(\"MAE: \", MAE)\r\n",
        "IM=np.sqrt(((1-R2)**2) + (RMSE**2) + (MAE**2) )\r\n",
        "print(\"IM: \", IM)\r\n",
        "print()\r\n"
      ],
      "execution_count": 15,
      "outputs": [
        {
          "output_type": "stream",
          "text": [
            "\n",
            "R2:  0.969351627934105\n",
            "RMSE:  0.19753727779618804\n",
            "MAE:  0.18070869553550756\n",
            "IM:  0.26947343370277277\n",
            "\n"
          ],
          "name": "stdout"
        },
        {
          "output_type": "stream",
          "text": [
            "/usr/local/lib/python3.7/dist-packages/sklearn/neural_network/_multilayer_perceptron.py:1342: DataConversionWarning: A column-vector y was passed when a 1d array was expected. Please change the shape of y to (n_samples, ), for example using ravel().\n",
            "  y = column_or_1d(y, warn=True)\n"
          ],
          "name": "stderr"
        }
      ]
    },
    {
      "cell_type": "markdown",
      "metadata": {
        "id": "ZH9GOCC-GyMV"
      },
      "source": [
        "### DTR"
      ]
    },
    {
      "cell_type": "code",
      "metadata": {
        "colab": {
          "base_uri": "https://localhost:8080/"
        },
        "id": "-J7eZx8aG0wh",
        "outputId": "1196688f-d1af-416e-dc82-cface039b1d4"
      },
      "source": [
        "from sklearn.tree import DecisionTreeRegressor\r\n",
        "DT=DecisionTreeRegressor(max_depth=20)\r\n",
        "\r\n",
        "#START TRAINING\r\n",
        "DT.fit(X_train,y_train)\r\n",
        "#PREDICTION\r\n",
        "y_pred=DT.predict(X_test)\r\n",
        "print()\r\n",
        "\r\n",
        "from sklearn.metrics import r2_score\r\n",
        "from sklearn.metrics import mean_absolute_error as MAE \r\n",
        "\r\n",
        "#METRICS: R2, RMSE, MAE\r\n",
        "R2=r2_score(y_test, y_pred)\r\n",
        "print('R2: ',R2)\r\n",
        "RMSE = np.sqrt(MSE_test)\r\n",
        "print(\"RMSE: \", RMSE)\r\n",
        "MAE = MAE(y_test, y_pred)\r\n",
        "print(\"MAE: \", MAE)\r\n",
        "IM=np.sqrt(((1-R2)**2) + (RMSE**2) + (MAE**2) )\r\n",
        "print(\"IM: \", IM)\r\n",
        "print()\r\n"
      ],
      "execution_count": 16,
      "outputs": [
        {
          "output_type": "stream",
          "text": [
            "\n",
            "R2:  0.9760461263765746\n",
            "RMSE:  0.19753727779618804\n",
            "MAE:  0.18266772943682477\n",
            "IM:  0.27011527827633225\n",
            "\n"
          ],
          "name": "stdout"
        }
      ]
    },
    {
      "cell_type": "markdown",
      "metadata": {
        "id": "ZOYI1QkauabG"
      },
      "source": [
        "# Comparisson"
      ]
    },
    {
      "cell_type": "code",
      "metadata": {
        "colab": {
          "base_uri": "https://localhost:8080/",
          "height": 411
        },
        "id": "fPy9q6RU3ZF2",
        "outputId": "01d473d7-fab7-4c58-973e-c3c3f5ab35e2"
      },
      "source": [
        "models = [ GBR ,  GP, xgbr]\r\n",
        "labels = ['GBR', 'GPs', 'XGBR']\r\n",
        "\r\n",
        "fig = plt.figure()\r\n",
        "fig.set_size_inches((9,6))\r\n",
        "\r\n",
        "for mod, label in zip( models, labels): \r\n",
        "  y_pred = mod.predict(Xn)\r\n",
        "  plt.plot(Yn, y_pred, 'o' ,label = label)\r\n",
        "\r\n",
        "plt.plot([y_pred.min(), y_pred.max()], [y_pred.min(), y_pred.max()], 'k--')\r\n",
        "plt.ylabel('Predicted UTS (MPa)')\r\n",
        "plt.xlabel('Measured  UTS (MPa)')\r\n",
        "plt.legend()  \r\n",
        "  "
      ],
      "execution_count": 17,
      "outputs": [
        {
          "output_type": "execute_result",
          "data": {
            "text/plain": [
              "<matplotlib.legend.Legend at 0x7f71d618c490>"
            ]
          },
          "metadata": {
            "tags": []
          },
          "execution_count": 17
        },
        {
          "output_type": "display_data",
          "data": {
            "image/png": "[encoded data removed]",
            "text/plain": [
              "<Figure size 648x432 with 1 Axes>"
            ]
          },
          "metadata": {
            "tags": []
          }
        }
      ]
    },
    {
      "cell_type": "markdown",
      "metadata": {
        "id": "spmg1zsfAUPp"
      },
      "source": [
        "Worst"
      ]
    },
    {
      "cell_type": "code",
      "metadata": {
        "colab": {
          "base_uri": "https://localhost:8080/",
          "height": 411
        },
        "id": "FQO6KSabAnrJ",
        "outputId": "f54006ef-fc8d-4db7-ee50-22a1a24fb23c"
      },
      "source": [
        "models = [ MLP, DT, RFR  ]\r\n",
        "labels = [ 'MLP', 'DTR', 'RFR']\r\n",
        "\r\n",
        "fig = plt.figure()\r\n",
        "fig.set_size_inches((9,6))\r\n",
        "\r\n",
        "for mod, label in zip( models, labels): \r\n",
        "  y_pred = mod.predict(Xn)\r\n",
        "  plt.plot(Yn, y_pred, 'o' ,label = label)\r\n",
        "\r\n",
        "plt.plot([y_pred.min(), y_pred.max()], [y_pred.min(), y_pred.max()], 'k--')\r\n",
        "plt.ylabel('Predicted UTS (MPa)')\r\n",
        "plt.xlabel('Measured  UTS (MPa)')\r\n",
        "plt.legend()  "
      ],
      "execution_count": 18,
      "outputs": [
        {
          "output_type": "execute_result",
          "data": {
            "text/plain": [
              "<matplotlib.legend.Legend at 0x7f71d6154d50>"
            ]
          },
          "metadata": {
            "tags": []
          },
          "execution_count": 18
        },
        {
          "output_type": "display_data",
          "data": {
            "image/png": "[encoded data removed]",
            "text/plain": [
              "<Figure size 648x432 with 1 Axes>"
            ]
          },
          "metadata": {
            "tags": []
          }
        }
      ]
    },
    {
      "cell_type": "code",
      "metadata": {
        "colab": {
          "base_uri": "https://localhost:8080/",
          "height": 411
        },
        "id": "isfDLIFVXXyd",
        "outputId": "dc00e0c1-ce51-40f0-c2c3-27265a11f3f2"
      },
      "source": [
        "models = [xgbr,  GBR,  GP, DT,  RFR ]\r\n",
        "labels = ['XGBR',  'GBR',   'GPs', 'DTR',  'RFR']\r\n",
        "\r\n",
        "fig = plt.figure()\r\n",
        "fig.set_size_inches((9,6))\r\n",
        "\r\n",
        "for mod, label in zip( models, labels): \r\n",
        "  y_pred = mod.predict(Xn)\r\n",
        "  plt.plot(Yn, y_pred, 'o' ,label = label)\r\n",
        "\r\n",
        "plt.plot([y_pred.min(), y_pred.max()], [y_pred.min(), y_pred.max()], 'k--')\r\n",
        "plt.ylabel('Predicted UTS (MPa)')\r\n",
        "plt.xlabel('Measured  UTS (MPa)')\r\n",
        "plt.legend()"
      ],
      "execution_count": 19,
      "outputs": [
        {
          "output_type": "execute_result",
          "data": {
            "text/plain": [
              "<matplotlib.legend.Legend at 0x7f71d6101ad0>"
            ]
          },
          "metadata": {
            "tags": []
          },
          "execution_count": 19
        },
        {
          "output_type": "display_data",
          "data": {
            "image/png": "[encoded data removed]",
            "text/plain": [
              "<Figure size 648x432 with 1 Axes>"
            ]
          },
          "metadata": {
            "tags": []
          }
        }
      ]
    },
    {
      "cell_type": "markdown",
      "metadata": {
        "id": "vaV3ZE0ctxzA"
      },
      "source": [
        "# CROSS-VALIDATION"
      ]
    },
    {
      "cell_type": "code",
      "metadata": {
        "colab": {
          "base_uri": "https://localhost:8080/"
        },
        "id": "lUE93GSRXjoz",
        "outputId": "452e21b7-8966-49c7-b3ff-08aa92397f2e"
      },
      "source": [
        "from sklearn.metrics import r2_score\r\n",
        "from sklearn.metrics import mean_squared_error as MSE\r\n",
        "from sklearn.metrics import mean_absolute_error \r\n",
        "from sklearn.model_selection import cross_val_score as CV\r\n",
        "\r\n",
        "import warnings\r\n",
        "warnings.filterwarnings('ignore')\r\n",
        "\r\n",
        "models = [xgbr,  GBR,  GP, DT, RFR, MLP ]\r\n",
        "labels = ['XGBR',  'GBR',   'GPs', 'DTR',  'RFR', 'MLP']\r\n",
        "IMS = []\r\n",
        "\r\n",
        "print(\"--------------------------------------------------------------\")\r\n",
        "print(\"%5s | %5s | %5s | %5s | %5s \" % (\"ML algorithm\",  \" -R2- \", \" -MSE- \", \" -MAE- \", \" -IM- \"))\r\n",
        "print(\"--------------------------------------------------------------\")\r\n",
        "\r\n",
        "for mod, label in zip( models, labels): \r\n",
        "  y_star_train = mod.predict(X_train)\r\n",
        " \r\n",
        "  scoreR2 = CV(mod, X_train, y_train, cv=5, scoring='r2')\r\n",
        "  #print(-1*scoreR2)\r\n",
        "  scoreMSE = CV(mod, X_train, y_train, cv=5, scoring='neg_mean_squared_error')\r\n",
        "  #print(-1*scoreMSE)\r\n",
        "  scoreMAE = CV(mod, X_train, y_train, cv=5, scoring='neg_mean_absolute_error')\r\n",
        "  #print(-1*scoreMAE)\r\n",
        "  IM=np.sqrt(((1-scoreR2)**2) + (scoreMSE) + (scoreMAE**2) )\r\n",
        "  #print(\"IM: \", IM)\r\n",
        "  \r\n",
        " \r\n",
        "  print(\"%12s | %.4f | %.4f | %.4f | %.4f \" % (label,  scoreR2.mean(), -1*scoreMSE.mean(), -1*scoreMAE.mean() , np.sqrt(((1-scoreR2.mean())**2) + (-1*scoreMSE.mean()) + (scoreMAE.mean()**2) )))\r\n",
        "print(\"--------------------------------------------------------------\")"
      ],
      "execution_count": 20,
      "outputs": [
        {
          "output_type": "stream",
          "text": [
            "--------------------------------------------------------------\n",
            "ML algorithm |  -R2-  |  -MSE-  |  -MAE-  |  -IM-  \n",
            "--------------------------------------------------------------\n",
            "        XGBR | 0.7716 | 0.1770 | 0.2917 | 0.5606 \n",
            "         GBR | 0.9090 | 0.0687 | 0.2065 | 0.3459 \n",
            "         GPs | 0.8339 | 0.1266 | 0.2424 | 0.4615 \n",
            "         DTR | 0.7731 | 0.1758 | 0.2913 | 0.5586 \n",
            "         RFR | 0.7550 | 0.1856 | 0.3011 | 0.5799 \n",
            "         MLP | 0.7986 | 0.1534 | 0.3030 | 0.5345 \n",
            "--------------------------------------------------------------\n"
          ],
          "name": "stdout"
        }
      ]
    },
    {
      "cell_type": "code",
      "metadata": {
        "colab": {
          "base_uri": "https://localhost:8080/",
          "height": 858
        },
        "id": "ZwT7VIiQZCTS",
        "outputId": "ac1799bb-1843-4401-f216-42c9a1ebd9db"
      },
      "source": [
        "from sklearn.gaussian_process import GaussianProcessRegressor as GPR\r\n",
        "from sklearn.gaussian_process.kernels import RBF, ConstantKernel as C\r\n",
        "kernel = C(1.0, (1e-3, 1e3)) * RBF(10, (1e-2, 1e2))\r\n",
        " \r\n",
        "model=GPR(kernel=kernel, n_restarts_optimizer=9, alpha=0.01, normalize_y=True)\r\n",
        " \r\n",
        "#Training\r\n",
        "model.fit(X_train,y_train)\r\n",
        " \r\n",
        "#Testing\r\n",
        "y_star_train = model.predict(X_train)\r\n",
        "y_pred = model.predict(X_test)\r\n",
        " \r\n",
        "#Plots\r\n",
        "plt.figure()\r\n",
        "plt.plot(y_train, y_star_train, 'g.')\r\n",
        "plt.plot([y_star_train.min(), y_star_train.max()], [y_star_train.min(), y_star_train.max()], 'k--')\r\n",
        "plt.ylabel('$y^*_{train}$')\r\n",
        "plt.xlabel('$y_{train}$')\r\n",
        "\r\n",
        "plt.figure()\r\n",
        "plt.plot(y_test, y_pred, 'r*')\r\n",
        "plt.plot([y_pred.min(), y_pred.max()], [y_pred.min(), y_pred.max()], 'k--')\r\n",
        "plt.ylabel('$y^*_{test}$')\r\n",
        "plt.xlabel('$y_{test}$')\r\n",
        " \r\n",
        "from sklearn.metrics import mean_squared_error\r\n",
        "MSE_test = mean_squared_error(y_test, y_pred)\r\n",
        "MSE_train = mean_squared_error(y_train, y_star_train)\r\n",
        " \r\n",
        "print(\"Gaussian Process\")\r\n",
        "print('MSE train:', MSE_train)\r\n",
        "print('MSE test:', MSE_test)\r\n",
        "print(\"MSE train < MSE test?\", MSE_train < MSE_test)\r\n",
        "print()\r\n",
        "from sklearn.metrics import r2_score\r\n",
        "R2_train=r2_score(y_train, y_star_train)\r\n",
        "print('R2_train: ',R2_train)\r\n",
        "R2_test=r2_score(y_test, y_pred)\r\n",
        "print('R2_test: ',R2_test)\r\n",
        "print()\r\n",
        " \r\n",
        "RE=100 * abs(y_test - y_pred) / y_test\r\n",
        "print('Relative error (%): ',RE)"
      ],
      "execution_count": 21,
      "outputs": [
        {
          "output_type": "stream",
          "text": [
            "Gaussian Process\n",
            "MSE train: 0.027006448468498048\n",
            "MSE test: 0.038636349226433164\n",
            "MSE train < MSE test? True\n",
            "\n",
            "R2_train:  0.9674943972157282\n",
            "R2_test:  0.9761260224212369\n",
            "\n",
            "Relative error (%):  [[ 8.92843333e+02]\n",
            " [-1.25423044e+01]\n",
            " [ 2.54612283e-01]\n",
            " [ 2.97439404e+01]\n",
            " [ 1.65820310e+01]\n",
            " [ 1.94846021e+01]\n",
            " [-1.28410313e+01]\n",
            " [-1.41575146e+01]\n",
            " [-3.09390295e+01]\n",
            " [ 3.30587015e+01]]\n"
          ],
          "name": "stdout"
        },
        {
          "output_type": "display_data",
          "data": {
            "image/png": "[encoded data removed]",
            "text/plain": [
              "<Figure size 432x288 with 1 Axes>"
            ]
          },
          "metadata": {
            "tags": []
          }
        },
        {
          "output_type": "display_data",
          "data": {
            "image/png": "[encoded data removed]",
            "text/plain": [
              "<Figure size 432x288 with 1 Axes>"
            ]
          },
          "metadata": {
            "tags": []
          }
        }
      ]
    },
    {
      "cell_type": "code",
      "metadata": {
        "id": "AuCGPfKiQI61"
      },
      "source": [
        "#Tunning hiperparameters (Training data)\r\n",
        "def f(x):\r\n",
        "  return -0.6467 * x**2 + 4.5666*x + 2.3454\r\n",
        "\r\n",
        "X1 = np.asarray(X_train)\r\n",
        "y1 = np.asarray(y_train).ravel()\r\n",
        "\r\n",
        "x1 = np.atleast_2d(np.linspace(0.8, 2.3, 100)).T\r\n",
        "\r\n",
        "kernel = C(1.0, (1e-3, 1e3)) * RBF(10, (1e-3, 1e3))\r\n",
        "model = GPR(kernel=kernel, n_restarts_optimizer=8, alpha=0.07, normalize_y=True)\r\n",
        "\r\n",
        "model.fit(X1, y1)\r\n",
        "\r\n",
        "# Make the prediction on the meshed x-axis (ask for MSE as well)\r\n",
        "y_pred, sigma = model.predict(x1, return_std=True)\r\n",
        "\r\n",
        "# Plot the function, the prediction and the 95% confidence interval based on the MSE\r\n",
        "\r\n",
        "fig = plt.figure()\r\n",
        "fig.set_size_inches((9,6))\r\n",
        "plt.plot(x1, f(x1), 'k:', label=r'Empirical Model')\r\n",
        "plt.plot(X1, y1, 'b.', markersize=10, label='Training data')\r\n",
        "plt.plot(x1, y_pred, 'r-', label='GPs Prediction')\r\n",
        "plt.fill(np.concatenate([x1, x1[::-1]]),\r\n",
        "         np.concatenate([y_pred - 1.9600 * sigma,\r\n",
        "                        (y_pred + 1.9600 * sigma)[::-1]]),\r\n",
        "         alpha=.3, fc='y', ec='None', label='95% confidence interval')\r\n",
        "plt.xlabel('Power (kW)')\r\n",
        "plt.ylabel('WW (mm)')\r\n",
        "plt.legend(loc='upper left')"
      ],
      "execution_count": 21,
      "outputs": []
    }
  ]
}