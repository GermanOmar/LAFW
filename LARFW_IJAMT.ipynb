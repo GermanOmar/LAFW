{
  "nbformat": 4,
  "nbformat_minor": 0,
  "metadata": {
    "accelerator": "GPU",
    "colab": {
      "name": "LARFW-IJAMT.ipynb",
      "provenance": [],
      "collapsed_sections": [],
      "toc_visible": true,
      "mount_file_id": "https://github.com/GermanOmar/ANN1/blob/main/NN1_L2.ipynb",
      "authorship_tag": "ABX9TyNxdQ/LPft9C9dQ4IKMc3yr",
      "include_colab_link": true
    },
    "kernelspec": {
      "display_name": "Python 3",
      "name": "python3"
    }
  },
  "cells": [
    {
      "cell_type": "markdown",
      "metadata": {
        "id": "view-in-github",
        "colab_type": "text"
      },
      "source": [
        "<a href=\"https://colab.research.google.com/github/GermanOmar/LAFW/blob/master/LARFW_IJAMT.ipynb\" target=\"_parent\"><img src=\"https://colab.research.google.com/assets/colab-badge.svg\" alt=\"Open In Colab\"/></a>"
      ]
    },
    {
      "cell_type": "markdown",
      "metadata": {
        "id": "rqI9VDT0RdWk"
      },
      "source": [
        "# Predicting the Ultimate Tensile Strength of AISI 1045 steel and 2017-T4 aluminum alloy joints in a laser-assisted rotary friction welding process using Machine learning\n",
        "\n",
        "\n"
      ]
    },
    {
      "cell_type": "markdown",
      "metadata": {
        "id": "2OOvQQeg7d0g"
      },
      "source": [
        "<a href=\"https://ibb.co/h2Prbq5\"><img src=\"https://i.ibb.co/2cDRxb2/Imagen1.png\" WIDTH=\"329\" HEIGHT=\"713\"  border=\"0\"></a>"
      ]
    },
    {
      "cell_type": "markdown",
      "metadata": {
        "id": "3-T6Z2bdRvSm"
      },
      "source": [
        " Libraries"
      ]
    },
    {
      "cell_type": "code",
      "metadata": {
        "id": "ltCb1Iw6Raez"
      },
      "source": [
        "import numpy as np\n",
        "import pandas as pd\n",
        "from matplotlib import pyplot as plt\n",
        "from sklearn import preprocessing\n",
        "from sklearn.utils import shuffle"
      ],
      "execution_count": 1,
      "outputs": []
    },
    {
      "cell_type": "markdown",
      "metadata": {
        "id": "1Mbfb5c9yu5p"
      },
      "source": [
        " Upload database:"
      ]
    },
    {
      "cell_type": "code",
      "metadata": {
        "colab": {
          "base_uri": "https://localhost:8080/"
        },
        "id": "_V3jfdhPsEKW",
        "outputId": "5517c6e6-eb89-4292-9e7d-4e2d3076f1ec"
      },
      "source": [
        "!git clone https://github.com/GermanOmar/LAFW"
      ],
      "execution_count": 2,
      "outputs": [
        {
          "output_type": "stream",
          "text": [
            "Cloning into 'LAFW'...\n",
            "remote: Enumerating objects: 19, done.\u001b[K\n",
            "remote: Counting objects: 100% (19/19), done.\u001b[K\n",
            "remote: Compressing objects: 100% (17/17), done.\u001b[K\n",
            "remote: Total 19 (delta 2), reused 0 (delta 0), pack-reused 0\u001b[K\n",
            "Unpacking objects: 100% (19/19), done.\n"
          ],
          "name": "stdout"
        }
      ]
    },
    {
      "cell_type": "code",
      "metadata": {
        "colab": {
          "base_uri": "https://localhost:8080/",
          "height": 284
        },
        "id": "Yx-ovik8xxJx",
        "outputId": "39790512-7f54-433b-abb7-b7a632ce6147"
      },
      "source": [
        "#Experimental data\n",
        "data = pd.read_table('data.txt') \n",
        "data.describe()\n"
      ],
      "execution_count": 3,
      "outputs": [
        {
          "output_type": "execute_result",
          "data": {
            "text/html": [
              "<div>\n",
              "<style scoped>\n",
              "    .dataframe tbody tr th:only-of-type {\n",
              "        vertical-align: middle;\n",
              "    }\n",
              "\n",
              "    .dataframe tbody tr th {\n",
              "        vertical-align: top;\n",
              "    }\n",
              "\n",
              "    .dataframe thead th {\n",
              "        text-align: right;\n",
              "    }\n",
              "</style>\n",
              "<table border=\"1\" class=\"dataframe\">\n",
              "  <thead>\n",
              "    <tr style=\"text-align: right;\">\n",
              "      <th></th>\n",
              "      <th>N</th>\n",
              "      <th>FP</th>\n",
              "      <th>LP</th>\n",
              "      <th>UTS</th>\n",
              "    </tr>\n",
              "  </thead>\n",
              "  <tbody>\n",
              "    <tr>\n",
              "      <th>count</th>\n",
              "      <td>48.000000</td>\n",
              "      <td>48.000000</td>\n",
              "      <td>48.000000</td>\n",
              "      <td>48.000000</td>\n",
              "    </tr>\n",
              "    <tr>\n",
              "      <th>mean</th>\n",
              "      <td>1700.000000</td>\n",
              "      <td>17.500000</td>\n",
              "      <td>600.000000</td>\n",
              "      <td>148.130417</td>\n",
              "    </tr>\n",
              "    <tr>\n",
              "      <th>std</th>\n",
              "      <td>101.058231</td>\n",
              "      <td>3.537038</td>\n",
              "      <td>378.125275</td>\n",
              "      <td>40.693220</td>\n",
              "    </tr>\n",
              "    <tr>\n",
              "      <th>min</th>\n",
              "      <td>1600.000000</td>\n",
              "      <td>14.000000</td>\n",
              "      <td>0.000000</td>\n",
              "      <td>60.300000</td>\n",
              "    </tr>\n",
              "    <tr>\n",
              "      <th>25%</th>\n",
              "      <td>1600.000000</td>\n",
              "      <td>14.000000</td>\n",
              "      <td>450.000000</td>\n",
              "      <td>114.300000</td>\n",
              "    </tr>\n",
              "    <tr>\n",
              "      <th>50%</th>\n",
              "      <td>1700.000000</td>\n",
              "      <td>17.500000</td>\n",
              "      <td>700.000000</td>\n",
              "      <td>149.750000</td>\n",
              "    </tr>\n",
              "    <tr>\n",
              "      <th>75%</th>\n",
              "      <td>1800.000000</td>\n",
              "      <td>21.000000</td>\n",
              "      <td>850.000000</td>\n",
              "      <td>176.825000</td>\n",
              "    </tr>\n",
              "    <tr>\n",
              "      <th>max</th>\n",
              "      <td>1800.000000</td>\n",
              "      <td>21.000000</td>\n",
              "      <td>1000.000000</td>\n",
              "      <td>215.400000</td>\n",
              "    </tr>\n",
              "  </tbody>\n",
              "</table>\n",
              "</div>"
            ],
            "text/plain": [
              "                 N         FP           LP         UTS\n",
              "count    48.000000  48.000000    48.000000   48.000000\n",
              "mean   1700.000000  17.500000   600.000000  148.130417\n",
              "std     101.058231   3.537038   378.125275   40.693220\n",
              "min    1600.000000  14.000000     0.000000   60.300000\n",
              "25%    1600.000000  14.000000   450.000000  114.300000\n",
              "50%    1700.000000  17.500000   700.000000  149.750000\n",
              "75%    1800.000000  21.000000   850.000000  176.825000\n",
              "max    1800.000000  21.000000  1000.000000  215.400000"
            ]
          },
          "metadata": {
            "tags": []
          },
          "execution_count": 3
        }
      ]
    },
    {
      "cell_type": "markdown",
      "metadata": {
        "id": "lFVoj9tfSQJJ"
      },
      "source": [
        "\r\n",
        "Setting inputs - output:"
      ]
    },
    {
      "cell_type": "code",
      "metadata": {
        "colab": {
          "base_uri": "https://localhost:8080/",
          "height": 472
        },
        "id": "j4RPoTbW_VVs",
        "outputId": "c90e48af-774f-413a-e51e-31985a417339"
      },
      "source": [
        "fields = [ 'N', 'FP','LP', 'UTS']\n",
        "import seaborn as sns\n",
        "sns.set()\n",
        "\n",
        "fig = plt.figure()\n",
        "fig.set_size_inches((12,8))\n",
        "for i, field in enumerate(fields):\n",
        "  plt.subplot(3, 3, i + 1)\n",
        "  plt.plot(data[field], data['UTS'], 'b*')\n",
        "  plt.xlabel(field)\n",
        "  plt.ylabel('UTS')\n",
        "\n",
        "plt.tight_layout()\n",
        "\n",
        "X=data[[ 'N', 'FP','LP']]\n",
        "Y=data['UTS'][:,None]\n",
        "\n",
        "\n",
        "\n",
        "#fig.tight_layout()"
      ],
      "execution_count": 4,
      "outputs": [
        {
          "output_type": "stream",
          "text": [
            "/usr/local/lib/python3.7/dist-packages/ipykernel_launcher.py:16: FutureWarning: Support for multi-dimensional indexing (e.g. `obj[:, None]`) is deprecated and will be removed in a future version.  Convert to a numpy array before indexing instead.\n",
            "  app.launch_new_instance()\n"
          ],
          "name": "stderr"
        },
        {
          "output_type": "display_data",
          "data": {
            "image/png": "[encoded data removed]",
            "text/plain": [
              "<Figure size 864x576 with 4 Axes>"
            ]
          },
          "metadata": {
            "tags": []
          }
        }
      ]
    },
    {
      "cell_type": "markdown",
      "metadata": {
        "id": "7o8zckSzFI7O"
      },
      "source": [
        "Normalization"
      ]
    },
    {
      "cell_type": "code",
      "metadata": {
        "id": "N9C38QmsAXm-"
      },
      "source": [
        "def normalize(X, X_mu, X_std):\r\n",
        "  return (X - X_mu)/X_std\r\n",
        "\r\n",
        "def denormalize(Xn, X_mu, X_std):\r\n",
        "  return Xn*X_std + X_mu\r\n",
        "\r\n",
        "X_std = X.std(0)\r\n",
        "X_mu = X.mean(0)\r\n",
        "Xn = normalize(X, X_mu, X_std)\r\n",
        "\r\n",
        "Y_std = Y.std(0)\r\n",
        "Y_mu = Y.mean(0)\r\n",
        "Yn = normalize(Y, Y_mu, Y_std)"
      ],
      "execution_count": 5,
      "outputs": []
    },
    {
      "cell_type": "markdown",
      "metadata": {
        "id": "Q6pAiesfTDDU"
      },
      "source": [
        " Split data"
      ]
    },
    {
      "cell_type": "code",
      "metadata": {
        "colab": {
          "base_uri": "https://localhost:8080/"
        },
        "id": "HI3IlTeHTF_Z",
        "outputId": "a205f18d-d704-4ce4-e8f4-3b53547c6773"
      },
      "source": [
        "from sklearn.model_selection import train_test_split\n",
        "\n",
        "X_train, X_test, y_train, y_test = train_test_split(Xn, Yn, test_size=0.2, random_state=42)\n",
        "print('training samples:', X_train.shape[0],  ' test samples:', X_test.shape[0])"
      ],
      "execution_count": 6,
      "outputs": [
        {
          "output_type": "stream",
          "text": [
            "training samples: 38  test samples: 10\n"
          ],
          "name": "stdout"
        }
      ]
    },
    {
      "cell_type": "markdown",
      "metadata": {
        "id": "7Zk7lMoGhdFO"
      },
      "source": [
        "#Results:"
      ]
    },
    {
      "cell_type": "markdown",
      "metadata": {
        "id": "NL8FawXuyV0d"
      },
      "source": [
        "###GBR "
      ]
    },
    {
      "cell_type": "code",
      "metadata": {
        "colab": {
          "base_uri": "https://localhost:8080/"
        },
        "id": "cGJU9U3RouUl",
        "outputId": "bf9b7b59-d21a-4847-a6bc-74bd8fd3b649"
      },
      "source": [
        "from sklearn.ensemble import GradientBoostingRegressor\r\n",
        "#KERNEL\r\n",
        "#GBR=GradientBoostingRegressor(n_estimators=100, random_state=0)\r\n",
        "GBR=GradientBoostingRegressor(n_estimators=2000, random_state=32, learning_rate=0.1 )\r\n",
        "\r\n",
        "#START TRAINING\r\n",
        "GBR.fit(X_train,y_train)\r\n",
        "#PREDICTION\r\n",
        "y_pred=GBR.predict(X_test)\r\n",
        "\r\n",
        "#EVAL\r\n",
        "from sklearn.metrics import mean_squared_error as MSE\r\n",
        "MSE_test = MSE(y_test, y_pred)\r\n",
        "\r\n",
        " \r\n",
        "print(\"-Gradient boosting regressor-\")\r\n",
        "print(\"-----------------------------\")\r\n",
        "\r\n",
        "print('MSE test:', MSE_test)\r\n",
        "\r\n",
        "print()\r\n",
        "\r\n",
        "from sklearn.metrics import r2_score\r\n",
        "from sklearn.metrics import mean_absolute_error as MAE \r\n",
        "\r\n",
        "#METRICS: R2, RMSE, MAE\r\n",
        "R2=r2_score(y_test, y_pred)\r\n",
        "print('R2: ',R2)\r\n",
        "RMSE = np.sqrt(MSE_test)\r\n",
        "print(\"RMSE: \", RMSE)\r\n",
        "MAE = MAE(y_test, y_pred)\r\n",
        "print(\"MAE: \", MAE)\r\n",
        "IM=np.sqrt(((1-R2)**2) + (RMSE**2) + (MAE**2) )\r\n",
        "print(\"IM: \", IM)\r\n",
        "print()\r\n",
        "\r\n"
      ],
      "execution_count": 7,
      "outputs": [
        {
          "output_type": "stream",
          "text": [
            "/usr/local/lib/python3.7/dist-packages/sklearn/ensemble/_gb.py:1454: DataConversionWarning: A column-vector y was passed when a 1d array was expected. Please change the shape of y to (n_samples, ), for example using ravel().\n",
            "  y = column_or_1d(y, warn=True)\n"
          ],
          "name": "stderr"
        },
        {
          "output_type": "stream",
          "text": [
            "-Gradient boosting regressor-\n",
            "-----------------------------\n",
            "MSE test: 0.03886862392437257\n",
            "\n",
            "R2:  0.975982496414206\n",
            "RMSE:  0.19715127167830435\n",
            "MAE:  0.18251922500723944\n",
            "IM:  0.26973826554663966\n",
            "\n"
          ],
          "name": "stdout"
        }
      ]
    },
    {
      "cell_type": "markdown",
      "metadata": {
        "id": "IVHzaa4EkSPe"
      },
      "source": [
        "### GPs"
      ]
    },
    {
      "cell_type": "code",
      "metadata": {
        "colab": {
          "base_uri": "https://localhost:8080/"
        },
        "id": "abeE5km2aix5",
        "outputId": "2d47a0c6-a1a2-41cb-b803-12748dfb9174"
      },
      "source": [
        "from sklearn.gaussian_process import GaussianProcessRegressor as GPR\r\n",
        "from sklearn.gaussian_process.kernels import RBF, ConstantKernel as C\r\n",
        "kernel = C(1.0, (1e-3, 1e3)) * RBF(10, (1e-2, 1e2))\r\n",
        " \r\n",
        "GP=GPR(kernel=kernel, n_restarts_optimizer=9, alpha=0.01, normalize_y=True)\r\n",
        " \r\n",
        "#Training\r\n",
        "GP.fit(X_train,y_train)\r\n",
        " \r\n",
        "#Testing\r\n",
        "y_star_train = GP.predict(X_train)\r\n",
        "y_pred = GP.predict(X_test)\r\n",
        " \r\n",
        "from sklearn.metrics import mean_squared_error\r\n",
        "MSE_test = mean_squared_error(y_test, y_pred)\r\n",
        "MSE_train = mean_squared_error(y_train, y_star_train)\r\n",
        " \r\n",
        "print(\"Gaussian Process\")\r\n",
        "print('MSE train:', MSE_train)\r\n",
        "print('MSE test:', MSE_test)\r\n",
        "print(\"MSE train < MSE test?\", MSE_train < MSE_test)\r\n",
        "print()\r\n",
        "from sklearn.metrics import r2_score\r\n",
        "R2_train=r2_score(y_train, y_star_train)\r\n",
        "print('R2_train: ',R2_train)\r\n",
        "R2_test=r2_score(y_test, y_pred)\r\n",
        "print('R2_test: ',R2_test)\r\n",
        "print()\r\n",
        "\"\"\" \r\n",
        "RE=100 * abs(y_test - y_pred) / y_test\r\n",
        "print('Relative error (%): ',RE)\r\n",
        "\"\"\"\r\n",
        "from sklearn.metrics import r2_score\r\n",
        "from sklearn.metrics import mean_absolute_error as MAE \r\n",
        "#METRICS: R2, RMSE, MAE\r\n",
        "R2=r2_score(y_test, y_pred)\r\n",
        "print('R2: ',R2)\r\n",
        "RMSE = np.sqrt(MSE_test)\r\n",
        "print(\"RMSE: \", RMSE)\r\n",
        "MAE = MAE(y_test, y_pred)\r\n",
        "print(\"MAE: \", MAE)\r\n",
        "IM=np.sqrt(((1-R2)**2) + (RMSE**2) + (MAE**2) )\r\n",
        "print(\"IM: \", IM)\r\n",
        "print()\r\n"
      ],
      "execution_count": 8,
      "outputs": [
        {
          "output_type": "stream",
          "text": [
            "Gaussian Process\n",
            "MSE train: 0.027006447802388093\n",
            "MSE test: 0.038636350210294414\n",
            "MSE train < MSE test? True\n",
            "\n",
            "R2_train:  0.9674943980174739\n",
            "R2_test:  0.9761260218132943\n",
            "\n",
            "R2:  0.9761260218132943\n",
            "RMSE:  0.19656131412435768\n",
            "MAE:  0.18048521561343117\n",
            "IM:  0.2679201935274392\n",
            "\n"
          ],
          "name": "stdout"
        }
      ]
    },
    {
      "cell_type": "markdown",
      "metadata": {
        "id": "4kmdzayWwhA9"
      },
      "source": [
        "### RFR"
      ]
    },
    {
      "cell_type": "code",
      "metadata": {
        "id": "6kLJ0SSekfuI",
        "colab": {
          "base_uri": "https://localhost:8080/"
        },
        "outputId": "98200407-5a0c-4a49-c228-b9d3ee1f6137"
      },
      "source": [
        "from sklearn.ensemble import RandomForestRegressor\r\n",
        "#KERNEL\r\n",
        "RFR=RandomForestRegressor(n_estimators=2000,max_depth=20)\r\n",
        "\r\n",
        "#START TRAINING\r\n",
        "RFR.fit(X_train,y_train)\r\n",
        "#PREDICTION\r\n",
        "y_pred=RFR.predict(X_test)\r\n",
        "\r\n",
        "#EVAL\r\n",
        "from sklearn.metrics import mean_squared_error as MSE\r\n",
        "MSE_test = MSE(y_test, y_pred)\r\n",
        "\r\n",
        "print(\"-----------------------------\")\r\n",
        "\r\n",
        "print('MSE test:', MSE_test)\r\n",
        "\r\n",
        "print()\r\n",
        "\r\n",
        "from sklearn.metrics import r2_score\r\n",
        "from sklearn.metrics import mean_absolute_error as MAE \r\n",
        "\r\n",
        "#METRICS: R2, RMSE, MAE\r\n",
        "R2=r2_score(y_test, y_pred)\r\n",
        "print('R2: ',R2)\r\n",
        "RMSE = np.sqrt(MSE_test)\r\n",
        "print(\"RMSE: \", RMSE)\r\n",
        "MAE = MAE(y_test, y_pred)\r\n",
        "print(\"MAE: \", MAE)\r\n",
        "IM=np.sqrt(((1-R2)**2) + (RMSE**2) + (MAE**2) )\r\n",
        "print(\"IM: \", IM)\r\n",
        "print()"
      ],
      "execution_count": 9,
      "outputs": [
        {
          "output_type": "stream",
          "text": [
            "/usr/local/lib/python3.7/dist-packages/ipykernel_launcher.py:6: DataConversionWarning: A column-vector y was passed when a 1d array was expected. Please change the shape of y to (n_samples,), for example using ravel().\n",
            "  \n"
          ],
          "name": "stderr"
        },
        {
          "output_type": "stream",
          "text": [
            "-----------------------------\n",
            "MSE test: 0.13372782125408572\n",
            "\n",
            "R2:  0.9173675807834181\n",
            "RMSE:  0.3656881475438953\n",
            "MAE:  0.26539687382761507\n",
            "IM:  0.45933804392532274\n",
            "\n"
          ],
          "name": "stdout"
        }
      ]
    },
    {
      "cell_type": "markdown",
      "metadata": {
        "id": "hkMQ_W07zri6"
      },
      "source": [
        "### XGB"
      ]
    },
    {
      "cell_type": "code",
      "metadata": {
        "id": "rLTTuAFyzJeP"
      },
      "source": [
        "import pickle\r\n",
        "import xgboost as xgb\r\n",
        "\r\n",
        "xgbr = xgb.XGBRegressor(verbosity=0, n_estimators=2000, max_depth=20)\r\n",
        "xgbr.fit(X_train, y_train)\r\n",
        "y_pred = xgbr.predict(X_test)"
      ],
      "execution_count": 10,
      "outputs": []
    },
    {
      "cell_type": "code",
      "metadata": {
        "id": "U12pnMB00Q68",
        "colab": {
          "base_uri": "https://localhost:8080/"
        },
        "outputId": "d581d20e-d946-44e6-b4dd-6125c8c09df9"
      },
      "source": [
        "print(xgbr)\r\n",
        "\r\n"
      ],
      "execution_count": 11,
      "outputs": [
        {
          "output_type": "stream",
          "text": [
            "XGBRegressor(base_score=0.5, booster='gbtree', colsample_bylevel=1,\n",
            "             colsample_bynode=1, colsample_bytree=1, gamma=0,\n",
            "             importance_type='gain', learning_rate=0.1, max_delta_step=0,\n",
            "             max_depth=20, min_child_weight=1, missing=None, n_estimators=2000,\n",
            "             n_jobs=1, nthread=None, objective='reg:linear', random_state=0,\n",
            "             reg_alpha=0, reg_lambda=1, scale_pos_weight=1, seed=None,\n",
            "             silent=None, subsample=1, verbosity=0)\n"
          ],
          "name": "stdout"
        }
      ]
    },
    {
      "cell_type": "code",
      "metadata": {
        "id": "saBkb2to1tVK",
        "colab": {
          "base_uri": "https://localhost:8080/"
        },
        "outputId": "6a54bbf0-dc20-4462-b828-e8662b78eeff"
      },
      "source": [
        "score = xgbr.score(X_test, y_test)  \r\n",
        "print(\"Training score: \", score)"
      ],
      "execution_count": 12,
      "outputs": [
        {
          "output_type": "stream",
          "text": [
            "Training score:  0.9758883557162752\n"
          ],
          "name": "stdout"
        }
      ]
    },
    {
      "cell_type": "code",
      "metadata": {
        "id": "P-auJlXw2D8o",
        "colab": {
          "base_uri": "https://localhost:8080/"
        },
        "outputId": "34a5ca8a-9c9e-4216-8a4b-3a138c88c87d"
      },
      "source": [
        "print(\"-XGBRegressor -\")\r\n",
        "print(\"------------------\")\r\n",
        "\r\n",
        "#EVAL\r\n",
        "from sklearn.metrics import mean_squared_error as MSE\r\n",
        "MSE_test = MSE(y_test, y_pred)\r\n",
        "\r\n",
        "print('MSE test:', MSE_test)\r\n",
        "\r\n",
        "print()\r\n",
        "\r\n",
        "from sklearn.metrics import r2_score\r\n",
        "from sklearn.metrics import mean_absolute_error as MAE \r\n",
        "\r\n",
        "#METRICS: R2, RMSE, MAE\r\n",
        "R2=r2_score(y_test, y_pred)\r\n",
        "print('R2: ',R2)\r\n",
        "RMSE = np.sqrt(MSE_test)\r\n",
        "print(\"RMSE: \", RMSE)\r\n",
        "MAE = MAE(y_test, y_pred)\r\n",
        "print(\"MAE: \", MAE)\r\n",
        "IM=np.sqrt(((1-R2)**2) + (RMSE**2) + (MAE**2) )\r\n",
        "print(\"IM: \", IM)\r\n",
        "print()"
      ],
      "execution_count": 13,
      "outputs": [
        {
          "output_type": "stream",
          "text": [
            "-XGBRegressor -\n",
            "------------------\n",
            "MSE test: 0.039020976119128366\n",
            "\n",
            "R2:  0.9758883557162752\n",
            "RMSE:  0.19753727779618804\n",
            "MAE:  0.1831962935970453\n",
            "IM:  0.270487022788318\n",
            "\n"
          ],
          "name": "stdout"
        }
      ]
    },
    {
      "cell_type": "code",
      "metadata": {
        "id": "y9iN5fEwukSL",
        "colab": {
          "base_uri": "https://localhost:8080/",
          "height": 318
        },
        "outputId": "374daf39-d55b-49f4-d7c1-f6a137e19b56"
      },
      "source": [
        "# get importance\r\n",
        "importance = xgbr.feature_importances_\r\n",
        "# summarize feature importance\r\n",
        "for i,v in enumerate(importance):\r\n",
        "\tprint('Feature: %0d, Score: %.5f' % (i,v))\r\n",
        "# plot feature importance\r\n",
        "plt.bar([x for x in range(len(importance))], importance)\r\n",
        "plt.show()"
      ],
      "execution_count": 14,
      "outputs": [
        {
          "output_type": "stream",
          "text": [
            "Feature: 0, Score: 0.09419\n",
            "Feature: 1, Score: 0.28351\n",
            "Feature: 2, Score: 0.62230\n"
          ],
          "name": "stdout"
        },
        {
          "output_type": "display_data",
          "data": {
            "image/png": "[encoded data removed]",
            "text/plain": [
              "<Figure size 432x288 with 1 Axes>"
            ]
          },
          "metadata": {
            "tags": []
          }
        }
      ]
    },
    {
      "cell_type": "markdown",
      "metadata": {
        "id": "obKfFgLjEyPo"
      },
      "source": [
        "### MLP"
      ]
    },
    {
      "cell_type": "code",
      "metadata": {
        "id": "OaU1OBfsE1R6",
        "colab": {
          "base_uri": "https://localhost:8080/"
        },
        "outputId": "2e736186-f380-4bcf-bfea-c4aa7c64d000"
      },
      "source": [
        "from sklearn.neural_network import MLPRegressor\r\n",
        "\r\n",
        "MLP = MLPRegressor(hidden_layer_sizes=4,solver='lbfgs',learning_rate='adaptive',activation='relu',random_state=42, max_iter=2000)\r\n",
        "#MLP = MLPRegressor(hidden_layer_sizes=(1000,1000,1000), activation='relu', solver='adam', max_iter=800)\r\n",
        "\r\n",
        "#START TRAINING\r\n",
        "MLP.fit(X_train,y_train)\r\n",
        "#PREDICTION\r\n",
        "y_pred=MLP.predict(X_test)\r\n",
        "\r\n",
        "print()\r\n",
        "\r\n",
        "from sklearn.metrics import r2_score\r\n",
        "from sklearn.metrics import mean_absolute_error as MAE \r\n",
        "\r\n",
        "#METRICS: R2, RMSE, MAE\r\n",
        "R2=r2_score(y_test, y_pred)\r\n",
        "print('R2: ',R2)\r\n",
        "RMSE = np.sqrt(MSE_test)\r\n",
        "print(\"RMSE: \", RMSE)\r\n",
        "MAE = MAE(y_test, y_pred)\r\n",
        "print(\"MAE: \", MAE)\r\n",
        "IM=np.sqrt(((1-R2)**2) + (RMSE**2) + (MAE**2) )\r\n",
        "print(\"IM: \", IM)\r\n",
        "print()\r\n"
      ],
      "execution_count": 15,
      "outputs": [
        {
          "output_type": "stream",
          "text": [
            "\n",
            "R2:  0.969351627934105\n",
            "RMSE:  0.19753727779618804\n",
            "MAE:  0.18070869553550756\n",
            "IM:  0.26947343370277277\n",
            "\n"
          ],
          "name": "stdout"
        },
        {
          "output_type": "stream",
          "text": [
            "/usr/local/lib/python3.7/dist-packages/sklearn/neural_network/_multilayer_perceptron.py:1342: DataConversionWarning: A column-vector y was passed when a 1d array was expected. Please change the shape of y to (n_samples, ), for example using ravel().\n",
            "  y = column_or_1d(y, warn=True)\n"
          ],
          "name": "stderr"
        }
      ]
    },
    {
      "cell_type": "markdown",
      "metadata": {
        "id": "ZH9GOCC-GyMV"
      },
      "source": [
        "### DTR"
      ]
    },
    {
      "cell_type": "code",
      "metadata": {
        "id": "-J7eZx8aG0wh",
        "colab": {
          "base_uri": "https://localhost:8080/"
        },
        "outputId": "393a8b21-e6f7-4400-9c20-df19e3aa5dd8"
      },
      "source": [
        "from sklearn.tree import DecisionTreeRegressor\r\n",
        "DT=DecisionTreeRegressor(max_depth=20)\r\n",
        "\r\n",
        "#START TRAINING\r\n",
        "DT.fit(X_train,y_train)\r\n",
        "#PREDICTION\r\n",
        "y_pred=DT.predict(X_test)\r\n",
        "print()\r\n",
        "\r\n",
        "from sklearn.metrics import r2_score\r\n",
        "from sklearn.metrics import mean_absolute_error as MAE \r\n",
        "\r\n",
        "#METRICS: R2, RMSE, MAE\r\n",
        "R2=r2_score(y_test, y_pred)\r\n",
        "print('R2: ',R2)\r\n",
        "RMSE = np.sqrt(MSE_test)\r\n",
        "print(\"RMSE: \", RMSE)\r\n",
        "MAE = MAE(y_test, y_pred)\r\n",
        "print(\"MAE: \", MAE)\r\n",
        "IM=np.sqrt(((1-R2)**2) + (RMSE**2) + (MAE**2) )\r\n",
        "print(\"IM: \", IM)\r\n",
        "print()\r\n"
      ],
      "execution_count": 16,
      "outputs": [
        {
          "output_type": "stream",
          "text": [
            "\n",
            "R2:  0.9760461263765746\n",
            "RMSE:  0.19753727779618804\n",
            "MAE:  0.18266772943682477\n",
            "IM:  0.27011527827633225\n",
            "\n"
          ],
          "name": "stdout"
        }
      ]
    },
    {
      "cell_type": "markdown",
      "metadata": {
        "id": "ZOYI1QkauabG"
      },
      "source": [
        "# Comparisson"
      ]
    },
    {
      "cell_type": "code",
      "metadata": {
        "id": "fPy9q6RU3ZF2",
        "colab": {
          "base_uri": "https://localhost:8080/",
          "height": 411
        },
        "outputId": "7638d316-f1d0-4031-d5a1-10c5ce52243f"
      },
      "source": [
        "#TRAIN\r\n",
        "models = [xgbr,  GBR,  GP, DT,  RFR , MLP]\r\n",
        "labels = ['XGBR',  'GBR',   'GPs', 'DTR',  'RFR', 'MLP']\r\n",
        "\r\n",
        "fig = plt.figure()\r\n",
        "fig.set_size_inches((9,6))\r\n",
        "\r\n",
        "for mod, label in zip( models, labels): \r\n",
        "  y_pred = mod.predict(X_train)\r\n",
        "  plt.plot(y_train, y_pred, 'o' ,label = label)\r\n",
        "\r\n",
        "plt.plot([y_pred.min(), y_pred.max()], [y_pred.min(), y_pred.max()], 'k--')\r\n",
        "plt.ylabel('Predicted UTS (MPa)')\r\n",
        "plt.xlabel('Measured  UTS (MPa)')\r\n",
        "plt.legend()  \r\n",
        "  "
      ],
      "execution_count": 17,
      "outputs": [
        {
          "output_type": "execute_result",
          "data": {
            "text/plain": [
              "<matplotlib.legend.Legend at 0x7f3876afc0d0>"
            ]
          },
          "metadata": {
            "tags": []
          },
          "execution_count": 17
        },
        {
          "output_type": "display_data",
          "data": {
            "image/png": "[encoded data removed]",
            "text/plain": [
              "<Figure size 648x432 with 1 Axes>"
            ]
          },
          "metadata": {
            "tags": []
          }
        }
      ]
    },
    {
      "cell_type": "code",
      "metadata": {
        "id": "FQO6KSabAnrJ",
        "colab": {
          "base_uri": "https://localhost:8080/",
          "height": 411
        },
        "outputId": "a8d560e6-0e4c-4aa9-c652-4fad8045befd"
      },
      "source": [
        "#TEST\r\n",
        "models = [xgbr,  GBR,  GP, DT,  RFR , MLP]\r\n",
        "labels = ['XGBR',  'GBR',   'GPs', 'DTR',  'RFR', 'MLP']\r\n",
        "\r\n",
        "fig = plt.figure()\r\n",
        "fig.set_size_inches((9,6))\r\n",
        "\r\n",
        "for mod, label in zip( models, labels): \r\n",
        "  y_pred = mod.predict(X_test)\r\n",
        "  plt.plot(y_test, y_pred, 'o' ,label = label)\r\n",
        "\r\n",
        "plt.plot([y_pred.min(), y_pred.max()], [y_pred.min(), y_pred.max()], 'k--')\r\n",
        "plt.ylabel('Predicted UTS (MPa)')\r\n",
        "plt.xlabel('Measured  UTS (MPa)')\r\n",
        "plt.legend()  "
      ],
      "execution_count": 18,
      "outputs": [
        {
          "output_type": "execute_result",
          "data": {
            "text/plain": [
              "<matplotlib.legend.Legend at 0x7f3876a04450>"
            ]
          },
          "metadata": {
            "tags": []
          },
          "execution_count": 18
        },
        {
          "output_type": "display_data",
          "data": {
            "image/png": "[encoded data removed]",
            "text/plain": [
              "<Figure size 648x432 with 1 Axes>"
            ]
          },
          "metadata": {
            "tags": []
          }
        }
      ]
    },
    {
      "cell_type": "code",
      "metadata": {
        "id": "isfDLIFVXXyd",
        "colab": {
          "base_uri": "https://localhost:8080/",
          "height": 411
        },
        "outputId": "a9fc6d99-f988-412a-9b62-152f3d3fe597"
      },
      "source": [
        "models = [xgbr,  GBR,  GP, DT,  RFR , MLP]\r\n",
        "labels = ['XGBR',  'GBR',   'GPs', 'DTR',  'RFR', 'MLP']\r\n",
        "\r\n",
        "fig = plt.figure()\r\n",
        "fig.set_size_inches((9,6))\r\n",
        "\r\n",
        "for mod, label in zip( models, labels): \r\n",
        "  y_pred = mod.predict(Xn)\r\n",
        "  plt.plot(Yn, y_pred, 'o' ,label = label)\r\n",
        "\r\n",
        "plt.plot([y_pred.min(), y_pred.max()], [y_pred.min(), y_pred.max()], 'k--')\r\n",
        "plt.ylabel('Predicted UTS (MPa)')\r\n",
        "plt.xlabel('Measured  UTS (MPa)')\r\n",
        "plt.legend()"
      ],
      "execution_count": 19,
      "outputs": [
        {
          "output_type": "execute_result",
          "data": {
            "text/plain": [
              "<matplotlib.legend.Legend at 0x7f3876a99090>"
            ]
          },
          "metadata": {
            "tags": []
          },
          "execution_count": 19
        },
        {
          "output_type": "display_data",
          "data": {
            "image/png": "[encoded data removed]",
            "text/plain": [
              "<Figure size 648x432 with 1 Axes>"
            ]
          },
          "metadata": {
            "tags": []
          }
        }
      ]
    },
    {
      "cell_type": "markdown",
      "metadata": {
        "id": "vaV3ZE0ctxzA"
      },
      "source": [
        "# CROSS-VALIDATION"
      ]
    },
    {
      "cell_type": "code",
      "metadata": {
        "id": "lUE93GSRXjoz",
        "colab": {
          "base_uri": "https://localhost:8080/"
        },
        "outputId": "bea767cd-f2de-4c9c-b7d2-9a717ab01d49"
      },
      "source": [
        "from sklearn.metrics import r2_score\r\n",
        "from sklearn.metrics import mean_squared_error as MSE\r\n",
        "from sklearn.metrics import mean_absolute_error \r\n",
        "from sklearn.model_selection import cross_val_score as CV\r\n",
        "\r\n",
        "import warnings\r\n",
        "warnings.filterwarnings('ignore')\r\n",
        "\r\n",
        "models = [xgbr,  GBR,  GP, DT, RFR, MLP ]\r\n",
        "labels = ['XGBR',  'GBR',   'GPs', 'DTR',  'RFR', 'MLP']\r\n",
        "IMS = []\r\n",
        "\r\n",
        "print(\"--------------------------------------------------------------\")\r\n",
        "print(\"%5s | %5s | %5s | %5s | %5s \" % (\"ML algorithm\",  \" -R2- \", \" -MSE- \", \" -MAE- \", \" -IM- \"))\r\n",
        "print(\"--------------------------------------------------------------\")\r\n",
        "\r\n",
        "for mod, label in zip( models, labels): \r\n",
        "  y_star_train = mod.predict(X_train)\r\n",
        " \r\n",
        "  scoreR2 = CV(mod, X_train, y_train, cv=5, scoring='r2')\r\n",
        "  #print(-1*scoreR2)\r\n",
        "  scoreMSE = CV(mod, X_train, y_train, cv=5, scoring='neg_mean_squared_error')\r\n",
        "  #print(-1*scoreMSE)\r\n",
        "  scoreMAE = CV(mod, X_train, y_train, cv=5, scoring='neg_mean_absolute_error')\r\n",
        "  #print(-1*scoreMAE)\r\n",
        "  IM=np.sqrt(((1-scoreR2)**2) + (scoreMSE) + (scoreMAE**2) )\r\n",
        "  #print(\"IM: \", IM)\r\n",
        "  \r\n",
        " \r\n",
        "  print(\"%12s | %.4f | %.4f | %.4f | %.4f \" % (label,  scoreR2.mean(), -1*scoreMSE.mean(), -1*scoreMAE.mean() , np.sqrt(((1-scoreR2.mean())**2) + (-1*scoreMSE.mean()) + (scoreMAE.mean()**2) )))\r\n",
        "print(\"--------------------------------------------------------------\")"
      ],
      "execution_count": 20,
      "outputs": [
        {
          "output_type": "stream",
          "text": [
            "--------------------------------------------------------------\n",
            "ML algorithm |  -R2-  |  -MSE-  |  -MAE-  |  -IM-  \n",
            "--------------------------------------------------------------\n",
            "        XGBR | 0.7716 | 0.1770 | 0.2917 | 0.5606 \n",
            "         GBR | 0.9091 | 0.0687 | 0.2049 | 0.3449 \n",
            "         GPs | 0.8339 | 0.1266 | 0.2424 | 0.4615 \n",
            "         DTR | 0.7731 | 0.1758 | 0.2913 | 0.5586 \n",
            "         RFR | 0.7592 | 0.1898 | 0.3027 | 0.5826 \n",
            "         MLP | 0.7986 | 0.1534 | 0.3030 | 0.5345 \n",
            "--------------------------------------------------------------\n"
          ],
          "name": "stdout"
        }
      ]
    },
    {
      "cell_type": "code",
      "metadata": {
        "id": "b1ao8CLdCScO",
        "colab": {
          "base_uri": "https://localhost:8080/",
          "height": 562
        },
        "outputId": "cf7d6831-ab72-4c7b-b833-ab5c0ecb25af"
      },
      "source": [
        "from sklearn.ensemble import GradientBoostingRegressor\r\n",
        "#KERNEL\r\n",
        "#GBR=GradientBoostingRegressor(n_estimators=100, random_state=0)\r\n",
        "GBR=GradientBoostingRegressor(n_estimators=2000, random_state=32, learning_rate=0.1 )\r\n",
        "\r\n",
        "#START TRAINING\r\n",
        "GBR.fit(X_train,y_train)\r\n",
        "#PREDICTION\r\n",
        "y_pred=GBR.predict(X_test)\r\n",
        "\r\n",
        "#EVAL\r\n",
        "from sklearn.metrics import mean_squared_error as MSE\r\n",
        "MSE_test = MSE(y_test, y_pred)\r\n",
        "\r\n",
        " \r\n",
        "print(\"-Gradient boosting regressor-\")\r\n",
        "print(\"-----------------------------\")\r\n",
        "\r\n",
        "print('MSE test:', MSE_test)\r\n",
        "\r\n",
        "print()\r\n",
        "\r\n",
        "from sklearn.metrics import r2_score\r\n",
        "from sklearn.metrics import mean_absolute_error as MAE \r\n",
        "\r\n",
        "#METRICS: R2, RMSE, MAE\r\n",
        "R2=r2_score(y_test, y_pred)\r\n",
        "print('R2: ',R2)\r\n",
        "RMSE = np.sqrt(MSE_test)\r\n",
        "print(\"RMSE: \", RMSE)\r\n",
        "MAE = MAE(y_test, y_pred)\r\n",
        "print(\"MAE: \", MAE)\r\n",
        "IM=np.sqrt(((1-R2)**2) + (RMSE**2) + (MAE**2) )\r\n",
        "print(\"IM: \", IM)\r\n",
        "print()\r\n",
        "\r\n",
        "#Plots\r\n",
        "fig = plt.figure()\r\n",
        "fig.set_size_inches((9,6))\r\n",
        "\r\n",
        "\r\n",
        "plt.plot(y_train, y_star_train, 'b.', label = 'Train')\r\n",
        "plt.plot([y_star_train.min(), y_star_train.max()], [y_star_train.min(), y_star_train.max()], 'k--')\r\n",
        "plt.plot(y_test, y_pred, 'ro', label = 'Test')\r\n",
        "plt.plot([y_pred.min(), y_pred.max()], [y_pred.min(), y_pred.max()], 'k--')\r\n",
        "plt.legend()\r\n",
        "plt.ylabel('Predicted UTS (MPa)')\r\n",
        "plt.xlabel('Measured  UTS (MPa)') "
      ],
      "execution_count": 23,
      "outputs": [
        {
          "output_type": "stream",
          "text": [
            "-Gradient boosting regressor-\n",
            "-----------------------------\n",
            "MSE test: 0.03886862392437257\n",
            "\n",
            "R2:  0.975982496414206\n",
            "RMSE:  0.19715127167830435\n",
            "MAE:  0.18251922500723944\n",
            "IM:  0.26973826554663966\n",
            "\n"
          ],
          "name": "stdout"
        },
        {
          "output_type": "execute_result",
          "data": {
            "text/plain": [
              "Text(0.5, 0, 'Measured  UTS (MPa)')"
            ]
          },
          "metadata": {
            "tags": []
          },
          "execution_count": 23
        },
        {
          "output_type": "display_data",
          "data": {
            "image/png": "[encoded data removed]",
            "text/plain": [
              "<Figure size 648x432 with 1 Axes>"
            ]
          },
          "metadata": {
            "tags": []
          }
        }
      ]
    },
    {
      "cell_type": "code",
      "metadata": {
        "id": "D775VyRcCYJI"
      },
      "source": [
        ""
      ],
      "execution_count": 22,
      "outputs": []
    }
  ]
}