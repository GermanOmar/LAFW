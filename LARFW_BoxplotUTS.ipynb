{
  "nbformat": 4,
  "nbformat_minor": 0,
  "metadata": {
    "colab": {
      "name": " LARFW-BoxplotUTS.ipynb",
      "provenance": [],
      "collapsed_sections": [],
      "toc_visible": true,
      "authorship_tag": "ABX9TyNA9KAT+Xr17/4QDPE9z5ql",
      "include_colab_link": true
    },
    "kernelspec": {
      "name": "python3",
      "display_name": "Python 3"
    },
    "accelerator": "GPU"
  },
  "cells": [
    {
      "cell_type": "markdown",
      "metadata": {
        "id": "view-in-github",
        "colab_type": "text"
      },
      "source": [
        "<a href=\"https://colab.research.google.com/github/GermanOmar/LAFW/blob/master/LARFW_BoxplotUTS.ipynb\" target=\"_parent\"><img src=\"https://colab.research.google.com/assets/colab-badge.svg\" alt=\"Open In Colab\"/></a>"
      ]
    },
    {
      "cell_type": "code",
      "metadata": {
        "id": "04q2zVli4FWv"
      },
      "source": [
        "import numpy as np\r\n",
        "import pandas as pd\r\n",
        "from matplotlib import pyplot as plt\r\n",
        "import math\r\n",
        "%matplotlib inline"
      ],
      "execution_count": 1,
      "outputs": []
    },
    {
      "cell_type": "code",
      "metadata": {
        "id": "B66YyX-z8DV6",
        "colab": {
          "base_uri": "https://localhost:8080/"
        },
        "outputId": "94b78436-23a9-4923-c6c8-d37aea1262be"
      },
      "source": [
        "!git clone https://github.com/GermanOmar/Master"
      ],
      "execution_count": 2,
      "outputs": [
        {
          "output_type": "stream",
          "text": [
            "Cloning into 'Master'...\n",
            "remote: Enumerating objects: 17, done.\u001b[K\n",
            "remote: Counting objects: 100% (17/17), done.\u001b[K\n",
            "remote: Compressing objects: 100% (13/13), done.\u001b[K\n",
            "remote: Total 17 (delta 1), reused 0 (delta 0), pack-reused 0\u001b[K\n",
            "Unpacking objects: 100% (17/17), done.\n"
          ],
          "name": "stdout"
        }
      ]
    },
    {
      "cell_type": "markdown",
      "metadata": {
        "id": "h43AifpMwzq3"
      },
      "source": [
        "# Laser Rotary friction welding (LRFW)"
      ]
    },
    {
      "cell_type": "code",
      "metadata": {
        "colab": {
          "base_uri": "https://localhost:8080/",
          "height": 304
        },
        "id": "26uUI05O5T8f",
        "outputId": "b001e9b2-1c05-4123-95a0-c93f538e7bb8"
      },
      "source": [
        "#Dataset\r\n",
        "RFW = pd.read_table('UTS.txt')\r\n",
        "RFW.describe()"
      ],
      "execution_count": null,
      "outputs": [
        {
          "output_type": "execute_result",
          "data": {
            "text/html": [
              "<div>\n",
              "<style scoped>\n",
              "    .dataframe tbody tr th:only-of-type {\n",
              "        vertical-align: middle;\n",
              "    }\n",
              "\n",
              "    .dataframe tbody tr th {\n",
              "        vertical-align: top;\n",
              "    }\n",
              "\n",
              "    .dataframe thead th {\n",
              "        text-align: right;\n",
              "    }\n",
              "</style>\n",
              "<table border=\"1\" class=\"dataframe\">\n",
              "  <thead>\n",
              "    <tr style=\"text-align: right;\">\n",
              "      <th></th>\n",
              "      <th>S1</th>\n",
              "      <th>S2</th>\n",
              "      <th>S3</th>\n",
              "      <th>S4</th>\n",
              "      <th>S5</th>\n",
              "      <th>S6</th>\n",
              "      <th>S7</th>\n",
              "      <th>S8</th>\n",
              "      <th>S9</th>\n",
              "      <th>S10</th>\n",
              "      <th>S11</th>\n",
              "      <th>S12</th>\n",
              "      <th>S13</th>\n",
              "      <th>S14</th>\n",
              "      <th>S15</th>\n",
              "      <th>S16</th>\n",
              "    </tr>\n",
              "  </thead>\n",
              "  <tbody>\n",
              "    <tr>\n",
              "      <th>count</th>\n",
              "      <td>3.000000</td>\n",
              "      <td>3.00000</td>\n",
              "      <td>3.000000</td>\n",
              "      <td>3.000000</td>\n",
              "      <td>3.000000</td>\n",
              "      <td>3.000000</td>\n",
              "      <td>3.000000</td>\n",
              "      <td>3.000000</td>\n",
              "      <td>3.000000</td>\n",
              "      <td>3.000000</td>\n",
              "      <td>3.000000</td>\n",
              "      <td>3.000000</td>\n",
              "      <td>3.000000</td>\n",
              "      <td>3.000000</td>\n",
              "      <td>3.000000</td>\n",
              "      <td>3.000000</td>\n",
              "    </tr>\n",
              "    <tr>\n",
              "      <th>mean</th>\n",
              "      <td>164.566667</td>\n",
              "      <td>64.00000</td>\n",
              "      <td>172.133333</td>\n",
              "      <td>112.166667</td>\n",
              "      <td>127.066667</td>\n",
              "      <td>166.200000</td>\n",
              "      <td>203.700000</td>\n",
              "      <td>109.166667</td>\n",
              "      <td>145.200000</td>\n",
              "      <td>168.900000</td>\n",
              "      <td>96.450000</td>\n",
              "      <td>127.066667</td>\n",
              "      <td>184.466667</td>\n",
              "      <td>131.000000</td>\n",
              "      <td>186.303333</td>\n",
              "      <td>211.700000</td>\n",
              "    </tr>\n",
              "    <tr>\n",
              "      <th>std</th>\n",
              "      <td>5.822657</td>\n",
              "      <td>6.15061</td>\n",
              "      <td>3.295957</td>\n",
              "      <td>5.468394</td>\n",
              "      <td>15.892556</td>\n",
              "      <td>4.132796</td>\n",
              "      <td>5.802586</td>\n",
              "      <td>5.108163</td>\n",
              "      <td>4.371499</td>\n",
              "      <td>15.835719</td>\n",
              "      <td>4.470179</td>\n",
              "      <td>12.676882</td>\n",
              "      <td>8.854566</td>\n",
              "      <td>4.107311</td>\n",
              "      <td>4.550938</td>\n",
              "      <td>3.915354</td>\n",
              "    </tr>\n",
              "    <tr>\n",
              "      <th>min</th>\n",
              "      <td>160.300000</td>\n",
              "      <td>60.30000</td>\n",
              "      <td>169.200000</td>\n",
              "      <td>107.800000</td>\n",
              "      <td>109.400000</td>\n",
              "      <td>162.400000</td>\n",
              "      <td>200.300000</td>\n",
              "      <td>105.100000</td>\n",
              "      <td>140.300000</td>\n",
              "      <td>150.800000</td>\n",
              "      <td>91.400000</td>\n",
              "      <td>112.500000</td>\n",
              "      <td>175.100000</td>\n",
              "      <td>128.100000</td>\n",
              "      <td>181.700000</td>\n",
              "      <td>207.600000</td>\n",
              "    </tr>\n",
              "    <tr>\n",
              "      <th>25%</th>\n",
              "      <td>161.250000</td>\n",
              "      <td>60.45000</td>\n",
              "      <td>170.350000</td>\n",
              "      <td>109.100000</td>\n",
              "      <td>120.500000</td>\n",
              "      <td>164.000000</td>\n",
              "      <td>200.350000</td>\n",
              "      <td>106.300000</td>\n",
              "      <td>143.450000</td>\n",
              "      <td>163.250000</td>\n",
              "      <td>94.725000</td>\n",
              "      <td>122.800000</td>\n",
              "      <td>180.350000</td>\n",
              "      <td>128.650000</td>\n",
              "      <td>184.055000</td>\n",
              "      <td>209.850000</td>\n",
              "    </tr>\n",
              "    <tr>\n",
              "      <th>50%</th>\n",
              "      <td>162.200000</td>\n",
              "      <td>60.60000</td>\n",
              "      <td>171.500000</td>\n",
              "      <td>110.400000</td>\n",
              "      <td>131.600000</td>\n",
              "      <td>165.600000</td>\n",
              "      <td>200.400000</td>\n",
              "      <td>107.500000</td>\n",
              "      <td>146.600000</td>\n",
              "      <td>175.700000</td>\n",
              "      <td>98.050000</td>\n",
              "      <td>133.100000</td>\n",
              "      <td>185.600000</td>\n",
              "      <td>129.200000</td>\n",
              "      <td>186.410000</td>\n",
              "      <td>212.100000</td>\n",
              "    </tr>\n",
              "    <tr>\n",
              "      <th>75%</th>\n",
              "      <td>166.700000</td>\n",
              "      <td>65.85000</td>\n",
              "      <td>173.600000</td>\n",
              "      <td>114.350000</td>\n",
              "      <td>135.900000</td>\n",
              "      <td>168.100000</td>\n",
              "      <td>205.400000</td>\n",
              "      <td>111.200000</td>\n",
              "      <td>147.650000</td>\n",
              "      <td>177.950000</td>\n",
              "      <td>98.975000</td>\n",
              "      <td>134.350000</td>\n",
              "      <td>189.150000</td>\n",
              "      <td>132.450000</td>\n",
              "      <td>188.605000</td>\n",
              "      <td>213.750000</td>\n",
              "    </tr>\n",
              "    <tr>\n",
              "      <th>max</th>\n",
              "      <td>171.200000</td>\n",
              "      <td>71.10000</td>\n",
              "      <td>175.700000</td>\n",
              "      <td>118.300000</td>\n",
              "      <td>140.200000</td>\n",
              "      <td>170.600000</td>\n",
              "      <td>210.400000</td>\n",
              "      <td>114.900000</td>\n",
              "      <td>148.700000</td>\n",
              "      <td>180.200000</td>\n",
              "      <td>99.900000</td>\n",
              "      <td>135.600000</td>\n",
              "      <td>192.700000</td>\n",
              "      <td>135.700000</td>\n",
              "      <td>190.800000</td>\n",
              "      <td>215.400000</td>\n",
              "    </tr>\n",
              "  </tbody>\n",
              "</table>\n",
              "</div>"
            ],
            "text/plain": [
              "               S1        S2          S3  ...         S14         S15         S16\n",
              "count    3.000000   3.00000    3.000000  ...    3.000000    3.000000    3.000000\n",
              "mean   164.566667  64.00000  172.133333  ...  131.000000  186.303333  211.700000\n",
              "std      5.822657   6.15061    3.295957  ...    4.107311    4.550938    3.915354\n",
              "min    160.300000  60.30000  169.200000  ...  128.100000  181.700000  207.600000\n",
              "25%    161.250000  60.45000  170.350000  ...  128.650000  184.055000  209.850000\n",
              "50%    162.200000  60.60000  171.500000  ...  129.200000  186.410000  212.100000\n",
              "75%    166.700000  65.85000  173.600000  ...  132.450000  188.605000  213.750000\n",
              "max    171.200000  71.10000  175.700000  ...  135.700000  190.800000  215.400000\n",
              "\n",
              "[8 rows x 16 columns]"
            ]
          },
          "metadata": {
            "tags": []
          },
          "execution_count": 7
        }
      ]
    },
    {
      "cell_type": "code",
      "metadata": {
        "id": "PGzxLRZi5rUC"
      },
      "source": [
        "# Calculate the average\r\n",
        "fields = ['S1', 'S2','S3','S4','S5','S6', 'S7','S8','S9','S10','S11','S12','S13','S14','S15', 'S16']\r\n",
        "S1=np.asanyarray (RFW[['S1']])\r\n",
        "S2=np.asanyarray (RFW[['S2']])\r\n",
        "S3=np.asanyarray (RFW[['S3']])\r\n",
        "S4=np.asanyarray (RFW[['S4']])\r\n",
        "S5=np.asanyarray (RFW[['S5']])\r\n",
        "S6=np.asanyarray (RFW[['S6']])\r\n",
        "S7=np.asanyarray (RFW[['S7']])\r\n",
        "S8=np.asanyarray (RFW[['S8']])\r\n",
        "S9=np.asanyarray (RFW[['S9']])\r\n",
        "S10=np.asanyarray (RFW[['S10']])\r\n",
        "S11=np.asanyarray (RFW[['S11']])\r\n",
        "S12=np.asanyarray (RFW[['S12']])\r\n",
        "S13=np.asanyarray (RFW[['S13']])\r\n",
        "S14=np.asanyarray (RFW[['S14']])\r\n",
        "S15=np.asanyarray (RFW[['S15']])\r\n",
        "S16=np.asanyarray (RFW[['S16']])\r\n",
        "\r\n",
        "\r\n",
        "S1_mean = np.mean(S1)\r\n",
        "S2_mean = np.mean(S2)\r\n",
        "S3_mean = np.mean(S3)\r\n",
        "S4_mean = np.mean(S4)\r\n",
        "S5_mean = np.mean(S5)\r\n",
        "S6_mean = np.mean(S6)\r\n",
        "S7_mean = np.mean(S7)\r\n",
        "S8_mean = np.mean(S8)\r\n",
        "S9_mean = np.mean(S9)\r\n",
        "S10_mean = np.mean(S10)\r\n",
        "S11_mean = np.mean(S11)\r\n",
        "S12_mean = np.mean(S12)\r\n",
        "S13_mean = np.mean(S13)\r\n",
        "S14_mean = np.mean(S14)\r\n",
        "S15_mean = np.mean(S15)\r\n",
        "S16_mean = np.mean(S16)"
      ],
      "execution_count": null,
      "outputs": []
    },
    {
      "cell_type": "code",
      "metadata": {
        "id": "qd__Onuu6Zpi"
      },
      "source": [
        "# Calculate the standard deviation\r\n",
        "S1_std = np.std(S1)\r\n",
        "S2_std = np.std(S2)\r\n",
        "S3_std = np.std(S3)\r\n",
        "S4_std = np.std(S4)\r\n",
        "S5_std = np.std(S5)\r\n",
        "S6_std = np.std(S6)\r\n",
        "S7_std = np.std(S7)\r\n",
        "S8_std = np.std(S8)\r\n",
        "S9_std = np.std(S9)\r\n",
        "S10_std = np.std(S10)\r\n",
        "S11_std = np.std(S11)\r\n",
        "S12_std = np.std(S12)\r\n",
        "S13_std = np.std(S13)\r\n",
        "S14_std = np.std(S14)\r\n",
        "S15_std = np.std(S15)\r\n",
        "S16_std = np.std(S16)"
      ],
      "execution_count": null,
      "outputs": []
    },
    {
      "cell_type": "code",
      "metadata": {
        "id": "9kZvfBi67B50"
      },
      "source": [
        "# Create lists for the plot\r\n",
        "labels = ['S1', 'S2','S3','S4','S5','S6', 'S7','S8','S9','S10','S11','S12','S13','S14','S15', 'S16']\r\n",
        "x_pos = np.arange(len(labels))\r\n",
        "CTEs = [S1_mean, S2_mean, S3_mean, S4_mean, S5_mean, S6_mean, S7_mean, S8_mean, S9_mean, S10_mean, S11_mean, S12_mean, S13_mean, S14_mean, S15_mean, S16_mean]\r\n",
        "error = [S1_std, S2_std, S3_std, S4_std, S5_std, S6_std, S7_std, S8_std, S9_std, S10_std, S11_std, S12_std,  S13_std, S14_std, S15_std, S16_std]"
      ],
      "execution_count": null,
      "outputs": []
    },
    {
      "cell_type": "code",
      "metadata": {
        "colab": {
          "base_uri": "https://localhost:8080/",
          "height": 501
        },
        "id": "f89VHMBZ7hWI",
        "outputId": "038bbcc2-950c-44d8-9764-245bb2733362"
      },
      "source": [
        "# Build the plot\r\n",
        "import seaborn as sns\r\n",
        "sns.set()\r\n",
        "#sns.set_theme(style=\"whitegrid\")\r\n",
        "#plt.rcParams[\"axes.grid\"] = False\r\n",
        "\r\n",
        "fig, ax = plt.subplots()\r\n",
        "fig.set_size_inches((11,8))\r\n",
        "ax.bar(x_pos, CTEs, yerr=error, align='center', alpha=1, ecolor='black', capsize=14)\r\n",
        "ax.set_ylabel('UTS (MPa)')\r\n",
        "ax.set_xticks(x_pos)\r\n",
        "ax.set_xticklabels(labels)\r\n",
        "ax.set_title('UTS ranges for LAFW')\r\n",
        "#ax.yaxis.grid(True)\r\n",
        "plt.show()"
      ],
      "execution_count": null,
      "outputs": [
        {
          "output_type": "display_data",
          "data": {
            "image/png": "[encoded data removed]",
            "text/plain": [
              "<Figure size 792x576 with 1 Axes>"
            ]
          },
          "metadata": {
            "tags": []
          }
        }
      ]
    },
    {
      "cell_type": "markdown",
      "metadata": {
        "id": "XwU4CJYPyPa1"
      },
      "source": [
        "Boxplots"
      ]
    },
    {
      "cell_type": "code",
      "metadata": {
        "id": "ALfmMXhc91bL",
        "colab": {
          "base_uri": "https://localhost:8080/"
        },
        "outputId": "3c0d476d-fb5e-4459-cee7-a1616f0ac254"
      },
      "source": [
        "LAFW=pd.read_table('LRFW1.txt',header=None)\r\n",
        "LAFW.describe()\r\n",
        "\r\n",
        "#np.percentile(LAFW, 25)\r\n",
        "#np.percentile(LAFW, 50)\r\n",
        "np.percentile(LAFW, 75)"
      ],
      "execution_count": null,
      "outputs": [
        {
          "output_type": "execute_result",
          "data": {
            "text/plain": [
              "185.80249999999998"
            ]
          },
          "metadata": {
            "tags": []
          },
          "execution_count": 9
        }
      ]
    },
    {
      "cell_type": "code",
      "metadata": {
        "id": "BoTmxOS395ed",
        "colab": {
          "base_uri": "https://localhost:8080/"
        },
        "outputId": "f077f167-3da7-49c3-99a9-e38df1fb129e"
      },
      "source": [
        "FW=pd.read_table('LRFW2.txt',header=None)\r\n",
        "FW.describe()\r\n",
        "\r\n",
        "np.percentile(FW, 75)"
      ],
      "execution_count": null,
      "outputs": [
        {
          "output_type": "execute_result",
          "data": {
            "text/plain": [
              "169.7"
            ]
          },
          "metadata": {
            "tags": []
          },
          "execution_count": 35
        }
      ]
    },
    {
      "cell_type": "code",
      "metadata": {
        "colab": {
          "base_uri": "https://localhost:8080/",
          "height": 725
        },
        "id": "IlJWKv00ySAB",
        "outputId": "15c4b7cb-08c0-4375-f7fb-e3f0793a2f54"
      },
      "source": [
        "import seaborn as sns\r\n",
        "sns.set()\r\n",
        "\r\n",
        "LAFW=pd.read_table('LRFW1.txt')\r\n",
        "FW=pd.read_table('LRFW2.txt')\r\n",
        "#sns.set_theme(style=\"whitegrid\")\r\n",
        "#plt.rcParams[\"axes.grid\"] = False\r\n",
        "\r\n",
        "data2=np.asanyarray (LAFW)\r\n",
        "data1=np.asanyarray (FW)\r\n",
        "data = [data1, data2]\r\n",
        "labels = ['RFW1', 'LAFW2']\r\n",
        "\r\n",
        "fig = plt.figure(figsize =(6, 4)) \r\n",
        "  \r\n",
        "# Creating axes instance \r\n",
        "ax = fig.add_axes([0, 0, 1, 1]) \r\n",
        "ax.set_ylabel('UTS (MPa)')  \r\n",
        "# x-axis labels \r\n",
        "#ax.set_xticklabels(['RFW', 'LAFW']) \r\n",
        "ax.set_title('Boxplots of UTS for: RFW - LAFW')\r\n",
        "\r\n",
        "# Creating plot \r\n",
        "bp = ax.boxplot(data, \r\n",
        "                         vert=True,  # vertical box alignment\r\n",
        "                         patch_artist=True,  # fill with color\r\n",
        "                         labels=labels) \r\n",
        "\r\n",
        "colors = ['lightblue',  'pink']\r\n",
        " \r\n",
        "for patch, color in zip(bp['boxes'], colors):\r\n",
        "    patch.set_facecolor(color)\r\n",
        " \r\n",
        "plt.show()\r\n"
      ],
      "execution_count": null,
      "outputs": [
        {
          "output_type": "error",
          "ename": "ValueError",
          "evalue": "ignored",
          "traceback": [
            "\u001b[0;31m---------------------------------------------------------------------------\u001b[0m",
            "\u001b[0;31mValueError\u001b[0m                                Traceback (most recent call last)",
            "\u001b[0;32m<ipython-input-13-62ed0d64da60>\u001b[0m in \u001b[0;36m<module>\u001b[0;34m()\u001b[0m\n\u001b[1;32m     25\u001b[0m                          \u001b[0mvert\u001b[0m\u001b[0;34m=\u001b[0m\u001b[0;32mTrue\u001b[0m\u001b[0;34m,\u001b[0m  \u001b[0;31m# vertical box alignment\u001b[0m\u001b[0;34m\u001b[0m\u001b[0;34m\u001b[0m\u001b[0m\n\u001b[1;32m     26\u001b[0m                          \u001b[0mpatch_artist\u001b[0m\u001b[0;34m=\u001b[0m\u001b[0;32mTrue\u001b[0m\u001b[0;34m,\u001b[0m  \u001b[0;31m# fill with color\u001b[0m\u001b[0;34m\u001b[0m\u001b[0;34m\u001b[0m\u001b[0m\n\u001b[0;32m---> 27\u001b[0;31m                          labels=labels) \n\u001b[0m\u001b[1;32m     28\u001b[0m \u001b[0;34m\u001b[0m\u001b[0m\n\u001b[1;32m     29\u001b[0m \u001b[0mcolors\u001b[0m \u001b[0;34m=\u001b[0m \u001b[0;34m[\u001b[0m\u001b[0;34m'lightblue'\u001b[0m\u001b[0;34m,\u001b[0m  \u001b[0;34m'pink'\u001b[0m\u001b[0;34m]\u001b[0m\u001b[0;34m\u001b[0m\u001b[0;34m\u001b[0m\u001b[0m\n",
            "\u001b[0;32m/usr/local/lib/python3.6/dist-packages/matplotlib/cbook/deprecation.py\u001b[0m in \u001b[0;36mwrapper\u001b[0;34m(*args, **kwargs)\u001b[0m\n\u001b[1;32m    294\u001b[0m                 f\"for the old name will be dropped %(removal)s.\")\n\u001b[1;32m    295\u001b[0m             \u001b[0mkwargs\u001b[0m\u001b[0;34m[\u001b[0m\u001b[0mnew\u001b[0m\u001b[0;34m]\u001b[0m \u001b[0;34m=\u001b[0m \u001b[0mkwargs\u001b[0m\u001b[0;34m.\u001b[0m\u001b[0mpop\u001b[0m\u001b[0;34m(\u001b[0m\u001b[0mold\u001b[0m\u001b[0;34m)\u001b[0m\u001b[0;34m\u001b[0m\u001b[0;34m\u001b[0m\u001b[0m\n\u001b[0;32m--> 296\u001b[0;31m         \u001b[0;32mreturn\u001b[0m \u001b[0mfunc\u001b[0m\u001b[0;34m(\u001b[0m\u001b[0;34m*\u001b[0m\u001b[0margs\u001b[0m\u001b[0;34m,\u001b[0m \u001b[0;34m**\u001b[0m\u001b[0mkwargs\u001b[0m\u001b[0;34m)\u001b[0m\u001b[0;34m\u001b[0m\u001b[0;34m\u001b[0m\u001b[0m\n\u001b[0m\u001b[1;32m    297\u001b[0m \u001b[0;34m\u001b[0m\u001b[0m\n\u001b[1;32m    298\u001b[0m     \u001b[0;31m# wrapper() must keep the same documented signature as func(): if we\u001b[0m\u001b[0;34m\u001b[0m\u001b[0;34m\u001b[0m\u001b[0;34m\u001b[0m\u001b[0m\n",
            "\u001b[0;32m/usr/local/lib/python3.6/dist-packages/matplotlib/__init__.py\u001b[0m in \u001b[0;36minner\u001b[0;34m(ax, data, *args, **kwargs)\u001b[0m\n\u001b[1;32m   1563\u001b[0m     \u001b[0;32mdef\u001b[0m \u001b[0minner\u001b[0m\u001b[0;34m(\u001b[0m\u001b[0max\u001b[0m\u001b[0;34m,\u001b[0m \u001b[0;34m*\u001b[0m\u001b[0margs\u001b[0m\u001b[0;34m,\u001b[0m \u001b[0mdata\u001b[0m\u001b[0;34m=\u001b[0m\u001b[0;32mNone\u001b[0m\u001b[0;34m,\u001b[0m \u001b[0;34m**\u001b[0m\u001b[0mkwargs\u001b[0m\u001b[0;34m)\u001b[0m\u001b[0;34m:\u001b[0m\u001b[0;34m\u001b[0m\u001b[0;34m\u001b[0m\u001b[0m\n\u001b[1;32m   1564\u001b[0m         \u001b[0;32mif\u001b[0m \u001b[0mdata\u001b[0m \u001b[0;32mis\u001b[0m \u001b[0;32mNone\u001b[0m\u001b[0;34m:\u001b[0m\u001b[0;34m\u001b[0m\u001b[0;34m\u001b[0m\u001b[0m\n\u001b[0;32m-> 1565\u001b[0;31m             \u001b[0;32mreturn\u001b[0m \u001b[0mfunc\u001b[0m\u001b[0;34m(\u001b[0m\u001b[0max\u001b[0m\u001b[0;34m,\u001b[0m \u001b[0;34m*\u001b[0m\u001b[0mmap\u001b[0m\u001b[0;34m(\u001b[0m\u001b[0msanitize_sequence\u001b[0m\u001b[0;34m,\u001b[0m \u001b[0margs\u001b[0m\u001b[0;34m)\u001b[0m\u001b[0;34m,\u001b[0m \u001b[0;34m**\u001b[0m\u001b[0mkwargs\u001b[0m\u001b[0;34m)\u001b[0m\u001b[0;34m\u001b[0m\u001b[0;34m\u001b[0m\u001b[0m\n\u001b[0m\u001b[1;32m   1566\u001b[0m \u001b[0;34m\u001b[0m\u001b[0m\n\u001b[1;32m   1567\u001b[0m         \u001b[0mbound\u001b[0m \u001b[0;34m=\u001b[0m \u001b[0mnew_sig\u001b[0m\u001b[0;34m.\u001b[0m\u001b[0mbind\u001b[0m\u001b[0;34m(\u001b[0m\u001b[0max\u001b[0m\u001b[0;34m,\u001b[0m \u001b[0;34m*\u001b[0m\u001b[0margs\u001b[0m\u001b[0;34m,\u001b[0m \u001b[0;34m**\u001b[0m\u001b[0mkwargs\u001b[0m\u001b[0;34m)\u001b[0m\u001b[0;34m\u001b[0m\u001b[0;34m\u001b[0m\u001b[0m\n",
            "\u001b[0;32m/usr/local/lib/python3.6/dist-packages/matplotlib/axes/_axes.py\u001b[0m in \u001b[0;36mboxplot\u001b[0;34m(self, x, notch, sym, vert, whis, positions, widths, patch_artist, bootstrap, usermedians, conf_intervals, meanline, showmeans, showcaps, showbox, showfliers, boxprops, labels, flierprops, medianprops, meanprops, capprops, whiskerprops, manage_ticks, autorange, zorder)\u001b[0m\n\u001b[1;32m   3626\u001b[0m \u001b[0;34m\u001b[0m\u001b[0m\n\u001b[1;32m   3627\u001b[0m         bxpstats = cbook.boxplot_stats(x, whis=whis, bootstrap=bootstrap,\n\u001b[0;32m-> 3628\u001b[0;31m                                        labels=labels, autorange=autorange)\n\u001b[0m\u001b[1;32m   3629\u001b[0m         \u001b[0;32mif\u001b[0m \u001b[0mnotch\u001b[0m \u001b[0;32mis\u001b[0m \u001b[0;32mNone\u001b[0m\u001b[0;34m:\u001b[0m\u001b[0;34m\u001b[0m\u001b[0;34m\u001b[0m\u001b[0m\n\u001b[1;32m   3630\u001b[0m             \u001b[0mnotch\u001b[0m \u001b[0;34m=\u001b[0m \u001b[0mrcParams\u001b[0m\u001b[0;34m[\u001b[0m\u001b[0;34m'boxplot.notch'\u001b[0m\u001b[0;34m]\u001b[0m\u001b[0;34m\u001b[0m\u001b[0;34m\u001b[0m\u001b[0m\n",
            "\u001b[0;32m/usr/local/lib/python3.6/dist-packages/matplotlib/cbook/__init__.py\u001b[0m in \u001b[0;36mboxplot_stats\u001b[0;34m(X, whis, bootstrap, labels, autorange)\u001b[0m\n\u001b[1;32m   1163\u001b[0m \u001b[0;34m\u001b[0m\u001b[0m\n\u001b[1;32m   1164\u001b[0m     \u001b[0;31m# convert X to a list of lists\u001b[0m\u001b[0;34m\u001b[0m\u001b[0;34m\u001b[0m\u001b[0;34m\u001b[0m\u001b[0m\n\u001b[0;32m-> 1165\u001b[0;31m     \u001b[0mX\u001b[0m \u001b[0;34m=\u001b[0m \u001b[0m_reshape_2D\u001b[0m\u001b[0;34m(\u001b[0m\u001b[0mX\u001b[0m\u001b[0;34m,\u001b[0m \u001b[0;34m\"X\"\u001b[0m\u001b[0;34m)\u001b[0m\u001b[0;34m\u001b[0m\u001b[0;34m\u001b[0m\u001b[0m\n\u001b[0m\u001b[1;32m   1166\u001b[0m \u001b[0;34m\u001b[0m\u001b[0m\n\u001b[1;32m   1167\u001b[0m     \u001b[0mncols\u001b[0m \u001b[0;34m=\u001b[0m \u001b[0mlen\u001b[0m\u001b[0;34m(\u001b[0m\u001b[0mX\u001b[0m\u001b[0;34m)\u001b[0m\u001b[0;34m\u001b[0m\u001b[0;34m\u001b[0m\u001b[0m\n",
            "\u001b[0;32m/usr/local/lib/python3.6/dist-packages/matplotlib/cbook/__init__.py\u001b[0m in \u001b[0;36m_reshape_2D\u001b[0;34m(X, name)\u001b[0m\n\u001b[1;32m   1384\u001b[0m         \u001b[0;32mreturn\u001b[0m \u001b[0;34m[\u001b[0m\u001b[0mnp\u001b[0m\u001b[0;34m.\u001b[0m\u001b[0mreshape\u001b[0m\u001b[0;34m(\u001b[0m\u001b[0mx\u001b[0m\u001b[0;34m,\u001b[0m \u001b[0;34m-\u001b[0m\u001b[0;36m1\u001b[0m\u001b[0;34m)\u001b[0m \u001b[0;32mfor\u001b[0m \u001b[0mx\u001b[0m \u001b[0;32min\u001b[0m \u001b[0mX\u001b[0m\u001b[0;34m]\u001b[0m\u001b[0;34m\u001b[0m\u001b[0;34m\u001b[0m\u001b[0m\n\u001b[1;32m   1385\u001b[0m     \u001b[0;32melse\u001b[0m\u001b[0;34m:\u001b[0m\u001b[0;34m\u001b[0m\u001b[0;34m\u001b[0m\u001b[0m\n\u001b[0;32m-> 1386\u001b[0;31m         \u001b[0;32mraise\u001b[0m \u001b[0mValueError\u001b[0m\u001b[0;34m(\u001b[0m\u001b[0;34m\"{} must have 2 or fewer dimensions\"\u001b[0m\u001b[0;34m.\u001b[0m\u001b[0mformat\u001b[0m\u001b[0;34m(\u001b[0m\u001b[0mname\u001b[0m\u001b[0;34m)\u001b[0m\u001b[0;34m)\u001b[0m\u001b[0;34m\u001b[0m\u001b[0;34m\u001b[0m\u001b[0m\n\u001b[0m\u001b[1;32m   1387\u001b[0m \u001b[0;34m\u001b[0m\u001b[0m\n\u001b[1;32m   1388\u001b[0m \u001b[0;34m\u001b[0m\u001b[0m\n",
            "\u001b[0;31mValueError\u001b[0m: X must have 2 or fewer dimensions"
          ]
        },
        {
          "output_type": "display_data",
          "data": {
            "image/png": "[encoded data removed]",
            "text/plain": [
              "<Figure size 432x288 with 1 Axes>"
            ]
          },
          "metadata": {
            "tags": []
          }
        }
      ]
    },
    {
      "cell_type": "markdown",
      "metadata": {
        "id": "m-w4eG2wxFbm"
      },
      "source": [
        "# Rotary friction welding (RFW)"
      ]
    },
    {
      "cell_type": "code",
      "metadata": {
        "colab": {
          "base_uri": "https://localhost:8080/",
          "height": 300
        },
        "id": "fypq9d-3CPQu",
        "outputId": "26e0c387-4dd2-4d02-e475-affc1b222f9f"
      },
      "source": [
        "#Dataset\r\n",
        "RFW2 = pd.read_table('dfT.txt')\r\n",
        "RFW2.describe()"
      ],
      "execution_count": null,
      "outputs": [
        {
          "output_type": "execute_result",
          "data": {
            "text/html": [
              "<div>\n",
              "<style scoped>\n",
              "    .dataframe tbody tr th:only-of-type {\n",
              "        vertical-align: middle;\n",
              "    }\n",
              "\n",
              "    .dataframe tbody tr th {\n",
              "        vertical-align: top;\n",
              "    }\n",
              "\n",
              "    .dataframe thead th {\n",
              "        text-align: right;\n",
              "    }\n",
              "</style>\n",
              "<table border=\"1\" class=\"dataframe\">\n",
              "  <thead>\n",
              "    <tr style=\"text-align: right;\">\n",
              "      <th></th>\n",
              "      <th>T1</th>\n",
              "      <th>T2</th>\n",
              "      <th>T3</th>\n",
              "      <th>T4</th>\n",
              "    </tr>\n",
              "  </thead>\n",
              "  <tbody>\n",
              "    <tr>\n",
              "      <th>count</th>\n",
              "      <td>3.000000</td>\n",
              "      <td>3.00000</td>\n",
              "      <td>3.000000</td>\n",
              "      <td>3.000000</td>\n",
              "    </tr>\n",
              "    <tr>\n",
              "      <th>mean</th>\n",
              "      <td>164.566667</td>\n",
              "      <td>64.00000</td>\n",
              "      <td>172.133333</td>\n",
              "      <td>112.166667</td>\n",
              "    </tr>\n",
              "    <tr>\n",
              "      <th>std</th>\n",
              "      <td>5.822657</td>\n",
              "      <td>6.15061</td>\n",
              "      <td>3.295957</td>\n",
              "      <td>5.468394</td>\n",
              "    </tr>\n",
              "    <tr>\n",
              "      <th>min</th>\n",
              "      <td>160.300000</td>\n",
              "      <td>60.30000</td>\n",
              "      <td>169.200000</td>\n",
              "      <td>107.800000</td>\n",
              "    </tr>\n",
              "    <tr>\n",
              "      <th>25%</th>\n",
              "      <td>161.250000</td>\n",
              "      <td>60.45000</td>\n",
              "      <td>170.350000</td>\n",
              "      <td>109.100000</td>\n",
              "    </tr>\n",
              "    <tr>\n",
              "      <th>50%</th>\n",
              "      <td>162.200000</td>\n",
              "      <td>60.60000</td>\n",
              "      <td>171.500000</td>\n",
              "      <td>110.400000</td>\n",
              "    </tr>\n",
              "    <tr>\n",
              "      <th>75%</th>\n",
              "      <td>166.700000</td>\n",
              "      <td>65.85000</td>\n",
              "      <td>173.600000</td>\n",
              "      <td>114.350000</td>\n",
              "    </tr>\n",
              "    <tr>\n",
              "      <th>max</th>\n",
              "      <td>171.200000</td>\n",
              "      <td>71.10000</td>\n",
              "      <td>175.700000</td>\n",
              "      <td>118.300000</td>\n",
              "    </tr>\n",
              "  </tbody>\n",
              "</table>\n",
              "</div>"
            ],
            "text/plain": [
              "               T1        T2          T3          T4\n",
              "count    3.000000   3.00000    3.000000    3.000000\n",
              "mean   164.566667  64.00000  172.133333  112.166667\n",
              "std      5.822657   6.15061    3.295957    5.468394\n",
              "min    160.300000  60.30000  169.200000  107.800000\n",
              "25%    161.250000  60.45000  170.350000  109.100000\n",
              "50%    162.200000  60.60000  171.500000  110.400000\n",
              "75%    166.700000  65.85000  173.600000  114.350000\n",
              "max    171.200000  71.10000  175.700000  118.300000"
            ]
          },
          "metadata": {
            "tags": []
          },
          "execution_count": 37
        }
      ]
    },
    {
      "cell_type": "code",
      "metadata": {
        "id": "HYhYMvofCPQ2"
      },
      "source": [
        "# Calculate the average\r\n",
        "fields = ['T1', 'T2','T3','T4']\r\n",
        "T1=np.asanyarray (RFW2[['T1']])\r\n",
        "T2=np.asanyarray (RFW2[['T2']])\r\n",
        "T3=np.asanyarray (RFW2[['T3']])\r\n",
        "T4=np.asanyarray (RFW2[['T4']])\r\n",
        "\r\n",
        "\r\n",
        "T1_mean = np.mean(T1)\r\n",
        "T2_mean = np.mean(T2)\r\n",
        "T3_mean = np.mean(T3)\r\n",
        "T4_mean = np.mean(T4)\r\n"
      ],
      "execution_count": null,
      "outputs": []
    },
    {
      "cell_type": "code",
      "metadata": {
        "id": "M44P3m6-CPQ3"
      },
      "source": [
        "# Calculate the standard deviation\r\n",
        "T1_std = np.std(T1)\r\n",
        "T2_std = np.std(T2)\r\n",
        "T3_std = np.std(T3)\r\n",
        "T4_std = np.std(T4)\r\n"
      ],
      "execution_count": null,
      "outputs": []
    },
    {
      "cell_type": "code",
      "metadata": {
        "id": "QUetAlx1CPQ4"
      },
      "source": [
        "# Create lists for the plot\r\n",
        "labels = ['T1', 'T2', 'T3','T4']\r\n",
        "x_pos = np.arange(len(labels))\r\n",
        "CTEs = [T1_mean, T2_mean, T3_mean, T4_mean]\r\n",
        "error = [T1_std, T2_std, T3_std, T4_std]"
      ],
      "execution_count": null,
      "outputs": []
    },
    {
      "cell_type": "code",
      "metadata": {
        "colab": {
          "base_uri": "https://localhost:8080/",
          "height": 501
        },
        "id": "wXVVB8yKCPQ4",
        "outputId": "582434fd-bd3a-4d15-8887-19bdaa44aeae"
      },
      "source": [
        "# Build the plot\r\n",
        "import seaborn as sns\r\n",
        "sns.set()\r\n",
        "#sns.set_theme(style=\"whitegrid\")\r\n",
        "#plt.rcParams[\"axes.grid\"] = False\r\n",
        "\r\n",
        "fig, ax = plt.subplots()\r\n",
        "fig.set_size_inches((11,8))\r\n",
        "ax.bar(x_pos, CTEs, yerr=error, align='center', alpha=0.9, ecolor='black', capsize=16, color='lightblue')\r\n",
        "ax.set_ylabel('UTS (MPa)')\r\n",
        "ax.set_xticks(x_pos)\r\n",
        "ax.set_xticklabels(labels)\r\n",
        "ax.set_title('UTS ranges for RFW')\r\n",
        "#ax.yaxis.grid(True)\r\n",
        "plt.show()"
      ],
      "execution_count": null,
      "outputs": [
        {
          "output_type": "display_data",
          "data": {
            "image/png": "[encoded data removed]",
            "text/plain": [
              "<Figure size 792x576 with 1 Axes>"
            ]
          },
          "metadata": {
            "tags": []
          }
        }
      ]
    },
    {
      "cell_type": "code",
      "metadata": {
        "colab": {
          "base_uri": "https://localhost:8080/",
          "height": 411
        },
        "id": "fveSp_Tq907K",
        "outputId": "0633697d-abc5-4889-a8a5-a0ab121aada7"
      },
      "source": [
        "import seaborn as sns\r\n",
        "sns.set()\r\n",
        "\r\n",
        "HV1=pd.read_table('HV1.txt')\r\n",
        "HV2=pd.read_table('HV2.txt')\r\n",
        "#sns.set_theme(style=\"whitegrid\")\r\n",
        "#plt.rcParams[\"axes.grid\"] = False\r\n",
        "\r\n",
        "data1=np.asanyarray (HV1)\r\n",
        "data2=np.asanyarray (HV2)\r\n",
        "data = [data1, data2]\r\n",
        "labels = ['RFW', 'LAFW']\r\n",
        "\r\n",
        "fig = plt.figure(figsize =(6, 4)) \r\n",
        "  \r\n",
        "# Creating axes instance \r\n",
        "ax = fig.add_axes([0, 0, 1, 1]) \r\n",
        "ax.set_ylabel('Hardness (HV)')  \r\n",
        "# x-axis labels \r\n",
        "#ax.set_xticklabels(['RFW', 'LAFW']) \r\n",
        "ax.set_title('Boxplots of Hardness for: RFW - LAFW')\r\n",
        "\r\n",
        "# Creating plot \r\n",
        "bp = ax.boxplot(data, \r\n",
        "                         vert=True,  # vertical box alignment\r\n",
        "                         patch_artist=True,  # fill with color\r\n",
        "                         labels=labels) \r\n",
        "\r\n",
        "colors = ['lightblue',  'pink']\r\n",
        " \r\n",
        "for patch, color in zip(bp['boxes'], colors):\r\n",
        "    patch.set_facecolor(color)\r\n",
        " \r\n",
        "plt.show()\r\n",
        "\r\n",
        "\r\n",
        " \r\n"
      ],
      "execution_count": null,
      "outputs": [
        {
          "output_type": "stream",
          "text": [
            "/usr/local/lib/python3.6/dist-packages/numpy/core/_asarray.py:83: VisibleDeprecationWarning: Creating an ndarray from ragged nested sequences (which is a list-or-tuple of lists-or-tuples-or ndarrays with different lengths or shapes) is deprecated. If you meant to do this, you must specify 'dtype=object' when creating the ndarray\n",
            "  return array(a, dtype, copy=False, order=order)\n"
          ],
          "name": "stderr"
        },
        {
          "output_type": "display_data",
          "data": {
            "image/png": "[encoded data removed]",
            "text/plain": [
              "<Figure size 432x288 with 1 Axes>"
            ]
          },
          "metadata": {
            "tags": []
          }
        }
      ]
    },
    {
      "cell_type": "code",
      "metadata": {
        "id": "0CoMwHIFBwBn",
        "colab": {
          "base_uri": "https://localhost:8080/",
          "height": 300
        },
        "outputId": "754c119f-ae20-47cb-d47a-01f6264f04f1"
      },
      "source": [
        "HV2=pd.read_table('HV2.txt', header=None)\r\n",
        "HV2.describe()"
      ],
      "execution_count": null,
      "outputs": [
        {
          "output_type": "execute_result",
          "data": {
            "text/html": [
              "<div>\n",
              "<style scoped>\n",
              "    .dataframe tbody tr th:only-of-type {\n",
              "        vertical-align: middle;\n",
              "    }\n",
              "\n",
              "    .dataframe tbody tr th {\n",
              "        vertical-align: top;\n",
              "    }\n",
              "\n",
              "    .dataframe thead th {\n",
              "        text-align: right;\n",
              "    }\n",
              "</style>\n",
              "<table border=\"1\" class=\"dataframe\">\n",
              "  <thead>\n",
              "    <tr style=\"text-align: right;\">\n",
              "      <th></th>\n",
              "      <th>0</th>\n",
              "    </tr>\n",
              "  </thead>\n",
              "  <tbody>\n",
              "    <tr>\n",
              "      <th>count</th>\n",
              "      <td>12.000000</td>\n",
              "    </tr>\n",
              "    <tr>\n",
              "      <th>mean</th>\n",
              "      <td>167.816667</td>\n",
              "    </tr>\n",
              "    <tr>\n",
              "      <th>std</th>\n",
              "      <td>31.267405</td>\n",
              "    </tr>\n",
              "    <tr>\n",
              "      <th>min</th>\n",
              "      <td>137.100000</td>\n",
              "    </tr>\n",
              "    <tr>\n",
              "      <th>25%</th>\n",
              "      <td>141.475000</td>\n",
              "    </tr>\n",
              "    <tr>\n",
              "      <th>50%</th>\n",
              "      <td>155.350000</td>\n",
              "    </tr>\n",
              "    <tr>\n",
              "      <th>75%</th>\n",
              "      <td>191.325000</td>\n",
              "    </tr>\n",
              "    <tr>\n",
              "      <th>max</th>\n",
              "      <td>221.500000</td>\n",
              "    </tr>\n",
              "  </tbody>\n",
              "</table>\n",
              "</div>"
            ],
            "text/plain": [
              "                0\n",
              "count   12.000000\n",
              "mean   167.816667\n",
              "std     31.267405\n",
              "min    137.100000\n",
              "25%    141.475000\n",
              "50%    155.350000\n",
              "75%    191.325000\n",
              "max    221.500000"
            ]
          },
          "metadata": {
            "tags": []
          },
          "execution_count": 43
        }
      ]
    },
    {
      "cell_type": "code",
      "metadata": {
        "id": "eqRWb4t7pFMo"
      },
      "source": [
        ""
      ],
      "execution_count": null,
      "outputs": []
    }
  ]
}